{
 "cells": [
  {
   "cell_type": "markdown",
   "metadata": {
    "id": "Y-hPgFVZH3ao"
   },
   "source": [
    "**What we are going to output**\n",
    "1. Is cancer or Not cancer\n",
    "2. Which type of cancer (bcc, mel) or non-cancer (akiec, bkl, df, nv, vasc)"
   ]
  },
  {
   "cell_type": "markdown",
   "metadata": {
    "id": "lsn9mdaV7GW8"
   },
   "source": []
  },
  {
   "cell_type": "markdown",
   "metadata": {
    "id": "A72HSm9IOVJZ"
   },
   "source": [
    "\n",
    "M(1) ---> P(Cancer)\n",
    "\n",
    "\n",
    "M(2) ---> Max ( P(cancer_type_1),  P(cancertype_2) ... P(cancertype_n) )\n",
    "\n",
    "\n",
    "M(3) ---> Max ( P(benign_type_1),  P(benign_type_2) ... P(benign_type_n) )"
   ]
  },
  {
   "cell_type": "code",
   "execution_count": 5,
   "metadata": {
    "colab": {
     "base_uri": "https://localhost:8080/"
    },
    "id": "Fi67fasl1Bb_",
    "outputId": "57dae9d4-fa2c-458e-97d7-26ae779be18e"
   },
   "outputs": [
    {
     "ename": "ModuleNotFoundError",
     "evalue": "No module named 'google.colab'",
     "output_type": "error",
     "traceback": [
      "\u001b[0;31m---------------------------------------------------------------------------\u001b[0m",
      "\u001b[0;31mModuleNotFoundError\u001b[0m                       Traceback (most recent call last)",
      "Cell \u001b[0;32mIn[5], line 3\u001b[0m\n\u001b[1;32m      1\u001b[0m \u001b[38;5;28;01mimport\u001b[39;00m \u001b[38;5;21;01mos\u001b[39;00m\n\u001b[1;32m      2\u001b[0m \u001b[38;5;28;01mimport\u001b[39;00m \u001b[38;5;21;01msys\u001b[39;00m\n\u001b[0;32m----> 3\u001b[0m \u001b[38;5;28;01mfrom\u001b[39;00m \u001b[38;5;21;01mgoogle\u001b[39;00m\u001b[38;5;21;01m.\u001b[39;00m\u001b[38;5;21;01mcolab\u001b[39;00m \u001b[38;5;28;01mimport\u001b[39;00m drive\n\u001b[1;32m      4\u001b[0m drive\u001b[38;5;241m.\u001b[39mmount(\u001b[38;5;124m'\u001b[39m\u001b[38;5;124m/content/drive\u001b[39m\u001b[38;5;124m'\u001b[39m)\n\u001b[1;32m      6\u001b[0m GOOGLE_DRIVE_PATH_AFTER_MYDRIVE \u001b[38;5;241m=\u001b[39m \u001b[38;5;124m'\u001b[39m\u001b[38;5;124mEECS_442_Project\u001b[39m\u001b[38;5;124m'\u001b[39m\n",
      "\u001b[0;31mModuleNotFoundError\u001b[0m: No module named 'google.colab'"
     ]
    }
   ],
   "source": [
    "import os\n",
    "import sys\n",
    "from google.colab import drive\n",
    "drive.mount('/content/drive')\n",
    "\n",
    "GOOGLE_DRIVE_PATH_AFTER_MYDRIVE = 'EECS_442_Project'\n",
    "GOOGLE_DRIVE_PATH = os.path.join('drive', 'MyDrive', GOOGLE_DRIVE_PATH_AFTER_MYDRIVE)\n",
    "\n",
    "sys.path.append(GOOGLE_DRIVE_PATH)\n",
    "print(GOOGLE_DRIVE_PATH)\n",
    "\n",
    "# Change into project drive directory.\n",
    "%cd /content/drive/MyDrive/EECS_442_Project/"
   ]
  },
  {
   "cell_type": "markdown",
   "metadata": {
    "id": "p06Aaib5-Wo8"
   },
   "source": [
    "Checks which device we are using.\n",
    "\n",
    "Note: This code has been pulled from Homework 5: hw5_diffusion.ipynb"
   ]
  },
  {
   "cell_type": "code",
   "execution_count": 1,
   "metadata": {
    "colab": {
     "base_uri": "https://localhost:8080/"
    },
    "id": "zofjYa_3-Vy7",
    "outputId": "60fe6f01-ea85-481f-e7fe-1e459d7e674e"
   },
   "outputs": [
    {
     "name": "stdout",
     "output_type": "stream",
     "text": [
      "Current device:  cuda:0\n"
     ]
    }
   ],
   "source": [
    "import torch\n",
    "\n",
    "# GPUs are preferred\n",
    "device_str = f\"cuda:0\" if torch.cuda.is_available() else 'cpu'\n",
    "print(\"Current device: \", device_str)\n",
    "device = torch.device(device_str)"
   ]
  },
  {
   "cell_type": "markdown",
   "metadata": {
    "id": "ELd4xQbVDPJU"
   },
   "source": [
    "###Compress Images (Preprocessing) - DONT RUN!\n",
    "Converts images from: /content/drive/MyDrive/EECS_442_Project/data/images/\n",
    "\n",
    "This function does the following:\n",
    "- For each image, resive the 600x450 image to 300x300\n",
    "- Set the quality to 90\n",
    "- Reduces image size from 180KB to 11KB with minimal loss in program accuracy.\n"
   ]
  },
  {
   "cell_type": "code",
   "execution_count": 2,
   "metadata": {
    "id": "dCzW9jRTD4bz"
   },
   "outputs": [],
   "source": [
    "from PIL import Image\n",
    "import os\n",
    "\n",
    "# directory for the original images and the new directory for the reduced images\n",
    "original_images_path = '/content/drive/MyDrive/EECS_442_Project/data/images/'\n",
    "reduced_images_dir = '/content/drive/MyDrive/EECS_442_Project/data/images_compressed/'\n",
    "\n",
    "# Create the directory for reduced images if it does not exist\n",
    "os.makedirs(reduced_images_dir, exist_ok=True)\n",
    "\n",
    "# Define the desired size and quality\n",
    "desired_size = (300, 300)\n",
    "quality_setting = 90\n",
    "\n",
    "# Function to process images\n",
    "def process_images(image_directory, output_directory, size, quality):\n",
    "    # Iterate over all the files in the original image directory\n",
    "    for filename in os.listdir(image_directory):\n",
    "        if filename.lower().endswith(('.png', '.jpg', '.jpeg', '.bmp', '.gif')):\n",
    "            # Construct the full file path\n",
    "            file_path = os.path.join(original_images_path)\n",
    "            try:\n",
    "                # Open the image\n",
    "                image = Image.open(file_path)\n",
    "\n",
    "                # Resize the image\n",
    "                image_resized = image.resize(size)\n",
    "\n",
    "                # Construct the output file path\n",
    "                output_file_path = os.path.join(output_directory, 'out-'+str(size)+'-'+str(quality)+'.jpg')\n",
    "\n",
    "                # Save the image with optimization and the set quality\n",
    "                image_resized.save(output_file_path, optimize=True, quality=quality)\n",
    "\n",
    "                print(f'Processed {output_file_path}')\n",
    "            except Exception as e:\n",
    "                print(f'Error processing {original_images_path}: {e}')\n",
    "\n",
    "# Call the function\n",
    "#process_images(original_images_path, reduced_images_dir, desired_size, quality_setting)\n"
   ]
  },
  {
   "cell_type": "code",
   "execution_count": null,
   "metadata": {
    "colab": {
     "base_uri": "https://localhost:8080/"
    },
    "id": "RCG3EbjXTyxP",
    "outputId": "3f7422cf-dafc-440c-d1cd-d614dab11fc0"
   },
   "outputs": [
    {
     "name": "stdout",
     "output_type": "stream",
     "text": [
      "10167\n",
      "The total size of the folder is: 2811403003 bytes\n",
      "The total size of the folder is: 2681.16 MB\n"
     ]
    }
   ],
   "source": [
    "#image_files = [f for f in os.listdir(reduced_images_dir) if f.lower().endswith(('.png', '.jpg', '.jpeg', '.bmp', '.gif'))]\n",
    "# print(len(image_files))\n",
    "# import os\n",
    "\n",
    "def get_dir_size(directory):\n",
    "    total_size = 0\n",
    "    for dirpath, dirnames, filenames in os.walk(directory):\n",
    "        for f in filenames:\n",
    "            fp = os.path.join(dirpath, f)\n",
    "            # skip if it is symbolic link\n",
    "            if not os.path.islink(fp):\n",
    "                total_size += os.path.getsize(fp)\n",
    "\n",
    "    return total_size\n",
    "\n",
    "# Replace 'reduced_images_dir' with the actual path of your directory\n",
    "# total_size = get_dir_size(original_images_path)\n",
    "# print(f\"The total size of the folder is: {total_size} bytes\")\n",
    "# print(f\"The total size of the folder is: {total_size / (1024**2):.2f} MB\")"
   ]
  },
  {
   "cell_type": "markdown",
   "metadata": {
    "id": "gSGDrKbsILoY"
   },
   "source": [
    "###ImageData Class\n",
    "Converts images from: /content/drive/MyDrive/EECS_442_Project/data/images/ to Tensors.\n",
    "\n",
    "This class stores the following:\n",
    "- Image_id/name Ex. 'ISIC_0030208'\n",
    "- Classification Ex. 'bkl'\n"
   ]
  },
  {
   "cell_type": "code",
   "execution_count": 2,
   "metadata": {
    "id": "5NjbMEdq4_Zk"
   },
   "outputs": [],
   "source": [
    "import csv\n",
    "from torch.utils.data import Dataset\n",
    "import torchvision.transforms as transforms\n",
    "from PIL import Image\n",
    "\n",
    "class ImageData(Dataset):\n",
    "  def __init__(self, preprocess=False, dataset_type='complete', training_type='training'):\n",
    "    self.preprocess = preprocess\n",
    "    self.root = 'data/images/'\n",
    "    self.cancerous_path = 'data/cancerous_HAM10000_metadata.csv'\n",
    "    self.non_cancerous_path = 'data/non_cancerous_HAM10000_metadata.csv'\n",
    "    self.complete_path = 'data/partitioned_HAM10000_metadata.csv'\n",
    "#     self.complete_path = 'data/evenmore_downsampled_partitioned.csv'\n",
    "    self.transform = transforms.Compose([\n",
    "        transforms.PILToTensor(),\n",
    "        transforms.ConvertImageDtype(torch.float),\n",
    "        transforms.Resize((224, 224))\n",
    "      ])\n",
    "\n",
    "    path = None\n",
    "    if dataset_type == 'complete':\n",
    "      path = self.complete_path\n",
    "    elif dataset_type == 'cancerous':\n",
    "      path = self.cancerous_path\n",
    "    elif dataset_type == 'non_cancerous':\n",
    "      path = self.non_cancerous_path\n",
    "    else:\n",
    "      print(\"Please define path as: complete, cancerous, or non_cancerous\")\n",
    "\n",
    "    self.image_id_list = []\n",
    "    # Initialize a dictionary of metadata.\n",
    "    self.image_metadata_dict = {}\n",
    "    label_dict = {\n",
    "        'training': 'validation',\n",
    "        'validation': 'test',\n",
    "        'test': ''\n",
    "    }\n",
    "\n",
    "\n",
    "    found_type = False\n",
    "    with open(path, mode='r') as file:\n",
    "      metadata = csv.reader(file)\n",
    "      for row in metadata:\n",
    "        if row[0] == training_type:\n",
    "          found_type = True\n",
    "          continue\n",
    "        elif not found_type:\n",
    "          continue\n",
    "\n",
    "        if row[0] == label_dict[training_type]:\n",
    "          break\n",
    "\n",
    "        found_type = True\n",
    "        image_id = row[1]\n",
    "        classification = row[2] # Corresponds to the dx column in the metadata csv\n",
    "        self.image_metadata_dict[image_id] = classification\n",
    "        self.image_id_list.append(image_id)\n",
    "\n",
    "\n",
    "  def __len__(self):\n",
    "    return len(self.image_metadata_dict)\n",
    "\n",
    "  def __getitem__(self, idx):\n",
    "    image_path = self.root + self.image_id_list[idx] + \".jpg\"\n",
    "    image = Image.open(image_path).convert(\"RGB\")\n",
    "    image = self.transform(image)\n",
    "    # print(self.preprocess)\n",
    "    if self.preprocess:\n",
    "      # Calculate image mean and normalize here.\n",
    "      mean = torch.mean(image, dim=(1, 2))\n",
    "      std = torch.std(image, dim=(1, 2))\n",
    "      preprocess_transform = transforms.Compose([\n",
    "        transforms.Normalize(mean=mean, std=std),\n",
    "        transforms.GaussianBlur(kernel_size=3, sigma=(0.1))\n",
    "      ])\n",
    "      image = preprocess_transform(image)\n",
    "    classification = self.image_metadata_dict[self.image_id_list[idx]]\n",
    "    image_id = self.image_id_list[idx]\n",
    "    return image_id, classification, image.to(device)"
   ]
  },
  {
   "cell_type": "markdown",
   "metadata": {
    "id": "espbgjMn9WaO"
   },
   "source": [
    "### DataLoader\n",
    "Creates a dataloader for our ImageData dataset class.\n",
    "\n",
    "Run this to check that data is loading in properly, and that the names and classifications are being correctly associated."
   ]
  },
  {
   "cell_type": "markdown",
   "metadata": {
    "id": "LJrku1bqeS3E"
   },
   "source": [
    "## Guide to using the DataLoader\n",
    "This gives you 3 vectors, each of length batch size.\\\n",
    "`for names, classifications, images in training_data:`\\\n",
    "This loops through the 3 vectors and gives you the specific image as well as the name and classification corresponding to that image.\\\n",
    "`for name, classification, image in zip(names, classifications, images):`\n",
    "\n",
    "\n",
    "There are 3 different data loaders: training_data, validation_data, and test_data."
   ]
  },
  {
   "cell_type": "code",
   "execution_count": 3,
   "metadata": {
    "id": "USSsvk8NQ_nZ"
   },
   "outputs": [],
   "source": [
    "Preprocess = False\n",
    "print_preview = True"
   ]
  },
  {
   "cell_type": "code",
   "execution_count": 4,
   "metadata": {
    "id": "LnWhxBBo9WHg"
   },
   "outputs": [
    {
     "name": "stdout",
     "output_type": "stream",
     "text": [
      "Printing training data batch.\n",
      "Image name:  ISIC_0030335  Image Classification:  bcc\n"
     ]
    },
    {
     "data": {
      "image/png": "[encoded data removed]",
      "text/plain": [
       "<PIL.Image.Image image mode=RGB size=224x224 at 0x151361D60D00>"
      ]
     },
     "metadata": {},
     "output_type": "display_data"
    },
    {
     "name": "stdout",
     "output_type": "stream",
     "text": [
      "\n",
      "\n",
      "Printing validation data batch.\n",
      "Image name:  ISIC_0034128  Image Classification:  nv\n"
     ]
    },
    {
     "data": {
      "image/png": "[encoded data removed]",
      "text/plain": [
       "<PIL.Image.Image image mode=RGB size=224x224 at 0x151361D60D60>"
      ]
     },
     "metadata": {},
     "output_type": "display_data"
    },
    {
     "name": "stdout",
     "output_type": "stream",
     "text": [
      "\n",
      "\n"
     ]
    }
   ],
   "source": [
    "from torch.utils.data import DataLoader\n",
    "\n",
    "# Tunable Parameters:\n",
    "batch_size = 1\n",
    "shuffle = True\n",
    "\n",
    "training = ImageData(preprocess=Preprocess, dataset_type='complete', training_type='training')\n",
    "training_data = DataLoader(dataset=training, batch_size=batch_size, shuffle=shuffle)\n",
    "\n",
    "validation = ImageData(preprocess=Preprocess, dataset_type='complete', training_type='validation')\n",
    "validation_data = DataLoader(dataset=validation, batch_size=batch_size, shuffle=shuffle)\n",
    "\n",
    "# test = ImageData(preprocess=Preprocess, dataset_type='complete', training_type='test')\n",
    "# test_data = DataLoader(dataset=test, batch_size=batch_size, shuffle=shuffle)\n",
    "\n",
    "if print_preview:\n",
    "  # Images will be of batch size.\n",
    "  names, classifications, images = next(iter(training_data))\n",
    "  print('Printing training data batch.')\n",
    "  for name, classification, image in zip(names, classifications, images):\n",
    "    print(\"Image name: \", name, \" Image Classification: \", classification)\n",
    "    convert_to_PIL = transforms.ToPILImage()\n",
    "    img = convert_to_PIL(image)\n",
    "    display(img)\n",
    "    print('\\n')\n",
    "\n",
    "  names, classifications, images = next(iter(validation_data))\n",
    "  print('Printing validation data batch.')\n",
    "  for name, classification, image in zip(names, classifications, images):\n",
    "    print(\"Image name: \", name, \" Image Classification: \", classification)\n",
    "    convert_to_PIL = transforms.ToPILImage()\n",
    "    img = convert_to_PIL(image)\n",
    "    display(img)\n",
    "    print('\\n')\n",
    "\n",
    "#   names, classifications, images = next(iter(test_data))\n",
    "#   print('Printing test data batch.')\n",
    "#   for name, classification, image in zip(names, classifications, images):\n",
    "#     print(\"Image name: \", name, \" Image Classification: \", classification)\n",
    "#     convert_to_PIL = transforms.ToPILImage()\n",
    "#     img = convert_to_PIL(image)\n",
    "#     display(img)\n",
    "#     print('\\n')\n",
    "\n",
    "\n"
   ]
  },
  {
   "cell_type": "markdown",
   "metadata": {
    "id": "fx5zS0XtH2HJ"
   },
   "source": [
    "## Setup"
   ]
  },
  {
   "cell_type": "code",
   "execution_count": 16,
   "metadata": {
    "colab": {
     "base_uri": "https://localhost:8080/"
    },
    "id": "C7qpXWWLIsH2",
    "outputId": "a3961970-c86e-457f-814a-e8447fac90bb"
   },
   "outputs": [
    {
     "name": "stdout",
     "output_type": "stream",
     "text": [
      "Defaulting to user installation because normal site-packages is not writeable\n",
      "Collecting torchsummary\n",
      "  Using cached torchsummary-1.5.1-py3-none-any.whl (2.8 kB)\n",
      "Installing collected packages: torchsummary\n",
      "Successfully installed torchsummary-1.5.1\n"
     ]
    }
   ],
   "source": [
    "!pip install torchsummary"
   ]
  },
  {
   "cell_type": "code",
   "execution_count": 5,
   "metadata": {
    "id": "qXMXX1WII4C6"
   },
   "outputs": [],
   "source": [
    "import numpy as np\n",
    "import matplotlib.pyplot as plt\n",
    "from tqdm import tqdm # Displays a progress bar\n",
    "\n",
    "import torch\n",
    "from torch import nn\n",
    "from torch import optim\n",
    "import torch.nn.functional as F\n",
    "from torchsummary import summary\n",
    "from torchvision import datasets, transforms\n",
    "from torch.utils.data import Dataset, Subset, DataLoader, random_split\n",
    "import seaborn as sns\n"
   ]
  },
  {
   "cell_type": "markdown",
   "metadata": {
    "id": "PcZ9x0FdCr9M"
   },
   "source": [
    "# The First Model (Our design)\n",
    "\n",
    "- Used to detect malignant vs. benign.\n",
    "- Predicts: probability of cell being cancerous\n",
    "- Architecture: 5 convolutional blocks\n"
   ]
  },
  {
   "cell_type": "code",
   "execution_count": 9,
   "metadata": {
    "id": "VGSpEBzNpgBg"
   },
   "outputs": [],
   "source": [
    "import torch\n",
    "import torch.nn as nn\n",
    "import torch.nn.functional as F\n",
    "\n",
    "class FirstModel(nn.Module):\n",
    "    def __init__(self):\n",
    "        super(FirstModel, self).__init__()\n",
    "\n",
    "        self.features = nn.Sequential(\n",
    "        # Block 1\n",
    "        nn.Conv2d(3, 32, kernel_size=3, padding=1),  # Convolutional layer with 3 input channels (RGB) and 32 output channels\n",
    "        nn.ReLU(),                                    # ReLU activation function to introduce non-linearity\n",
    "        nn.MaxPool2d(2, 2),                           # Max pooling layer to downsample the feature maps\n",
    "        nn.Dropout(0.25),                             # Dropout layer to prevent overfitting by randomly dropping connections\n",
    "\n",
    "        # Block 2\n",
    "        nn.Conv2d(32, 64, kernel_size=3, padding=1),  # Convolutional layer with 32 input channels and 64 output channels\n",
    "        nn.ReLU(),                                    # ReLU activation function\n",
    "        nn.MaxPool2d(2, 2),                           # Max pooling\n",
    "        nn.Dropout(0.25),                             # Dropout\n",
    "\n",
    "        # Block 3\n",
    "        nn.Conv2d(64, 128, kernel_size=3, padding=1), # Convolutional layer with 64 input channels and 128 output channels\n",
    "        nn.ReLU(),\n",
    "        nn.MaxPool2d(2, 2),\n",
    "        nn.Dropout(0.25),\n",
    "\n",
    "        # Block 4\n",
    "        nn.Conv2d(128, 256, kernel_size=3, padding=1), # Convolutional layer with 128 input channels and 256 output channels\n",
    "        nn.ReLU(),\n",
    "        nn.MaxPool2d(2, 2),\n",
    "        nn.Dropout(0.25),\n",
    "\n",
    "        # Block 5\n",
    "        nn.Conv2d(256, 512, kernel_size=3, padding=1), # Convolutional layer with 256 input channels and 512 output channels\n",
    "        nn.ReLU(),\n",
    "        nn.MaxPool2d(2, 2),\n",
    "        nn.Dropout(0.25),\n",
    "        )\n",
    "\n",
    "        # Define the fully connected layers\n",
    "        self.classifier = nn.Sequential(\n",
    "            nn.Linear(512 * 7 * 7, 1024),                 # Fully connected layer with input size of 512*7*7 and output size of 1024\n",
    "            nn.ReLU(),                                    # ReLU activation function\n",
    "            nn.Dropout(0.25),                             # Dropout\n",
    "\n",
    "            nn.Linear(1024, 1),                           # Fully connected layer with input size of 1024 and output size of 1\n",
    "            nn.Sigmoid()                                  # Sigmoid activation function to output likelihood of cancer\n",
    "        )\n",
    "#         self.classifier = nn.Sequential(\n",
    "            \n",
    "# #             nn.Linear(512 * 9 * 9, 1024),  # Adjusted the input features\n",
    "#             nn.ReLU(),\n",
    "#             nn.Dropout(0.25),\n",
    "#             nn.Linear(1024, 1),\n",
    "#             nn.Sigmoid()\n",
    "#         )\n",
    "\n",
    "    def forward(self, x):\n",
    "        # Pass the input through the convolutional blocks\n",
    "        x = self.features(x)\n",
    "#         print(x.shape)\n",
    "        # Flatten the output for the fully connected layers\n",
    "        x = torch.flatten(x, 1)\n",
    "        # Pass the output through the fully connected layers\n",
    "        x = self.classifier(x)\n",
    "        return x"
   ]
  },
  {
   "cell_type": "code",
   "execution_count": 39,
   "metadata": {
    "id": "AMOV7t5dpmZ9"
   },
   "outputs": [],
   "source": [
    "# training = ImageData(preprocess=Preprocess, dataset_type='complete', training_type='training')\n",
    "# filtered_training_data = DataLoader(dataset=training, batch_size=batch_size, shuffle=shuffle)\n",
    "\n",
    "# validation = ImageData(preprocess=Preprocess, dataset_type='complete', training_type='validation')\n",
    "# validation_data = DataLoader(dataset=validation, batch_size=batch_size, shuffle=shuffle)\n",
    "\n",
    "\n",
    "# filtered_training_data = filtered_training_data\n",
    "# validation_data = validation_data"
   ]
  },
  {
   "cell_type": "markdown",
   "metadata": {},
   "source": [
    "## Downsampling nc data:\n"
   ]
  },
  {
   "cell_type": "code",
   "execution_count": 35,
   "metadata": {},
   "outputs": [],
   "source": [
    "# mport csv\n",
    "# from torch.utils.data import Dataset\n",
    "# import torchvision.transforms as transforms\n",
    "# from PIL import Image\n",
    "\n",
    "# class ImageData(Dataset):\n",
    "#   def __init__(self, preprocess=False, dataset_type='complete', training_type='training', downsample_nc=False):  # Add the downsample_nc parameter here\n",
    "#     self.preprocess = preprocess\n",
    "#     self.root = 'data/images/'\n",
    "#     self.cancerous_path = 'data/cancerous_HAM10000_metadata.csv'\n",
    "#     self.non_cancerous_path = 'data/non_cancerous_HAM10000_metadata.csv'\n",
    "#     self.complete_path = 'data/partitioned_HAM10000_metadata.csv'\n",
    "#     self.transform = transforms.Compose([\n",
    "#         transforms.PILToTensor(),\n",
    "#         transforms.ConvertImageDtype(torch.float),\n",
    "#         transforms.Resize((224, 224))\n",
    "#     ])\n",
    "\n",
    "#     # Determine the path based on dataset_type\n",
    "#     path = self.complete_path if dataset_type == 'complete' else \\\n",
    "#            self.cancerous_path if dataset_type == 'cancerous' else \\\n",
    "#            self.non_cancerous_path if dataset_type == 'non_cancerous' else \\\n",
    "#            None\n",
    "\n",
    "#     self.image_data = []  # Use this list to store all image data\n",
    "#     label_dict = {'training': 'validation', 'validation': 'test', 'test': ''}\n",
    "\n",
    "#     with open(path, mode='r') as file:\n",
    "#       metadata = csv.reader(file)\n",
    "#       next(metadata)  # Skip the header\n",
    "#       for row in metadata:\n",
    "#         if row[0] == training_type:\n",
    "#           self.image_data.append((row[1], row[2], self.root + row[1] + \".jpg\"))\n",
    "#         elif row[0] == label_dict[training_type]:\n",
    "#           break  # Stop when we reach the end of the current training type section\n",
    "        \n",
    "#     if training_type == 'training' and downsample_nc:\n",
    "#       self.downsample_nc()\n",
    "            \n",
    "#   def downsample_nc(self):\n",
    "#     # Separate 'nc' class data and other data\n",
    "#     nc_data = [item for item in self.image_data if item[1] == 'nc']\n",
    "#     other_data = [item for item in self.image_data if item[1] != 'nc']\n",
    "\n",
    "#     # Downsample 'nc' data to 50% of its original size\n",
    "#     reduced_nc_data = random.sample(nc_data, len(nc_data) // 2)\n",
    "\n",
    "#     # Combine and shuffle\n",
    "#     self.image_data = other_data + reduced_nc_data\n",
    "#     random.shuffle(self.image_data)\n",
    "\n",
    "\n",
    "#   def __len__(self):\n",
    "#     return len(self.image_data) \n",
    "\n",
    "#   def __getitem__(self, idx):\n",
    "#     image_id, classification, image_path = self.image_data[idx]\n",
    "#     image = Image.open(image_path).convert(\"RGB\")\n",
    "#     image = self.transform(image)\n",
    "    \n",
    "#     if self.preprocess:\n",
    "#         # Apply preprocess transformations (normalization, etc.)\n",
    "#         # Note that you might need to move and reshape the image tensor for normalization.\n",
    "#         mean = torch.mean(image, dim=(1, 2))\n",
    "#         std = torch.std(image, dim=(1, 2))\n",
    "#         preprocess_transform = transforms.Compose([\n",
    "#             transforms.Normalize(mean=mean.tolist(), std=std.tolist()),\n",
    "#             transforms.GaussianBlur(kernel_size=3, sigma=(0.1))\n",
    "#         ])\n",
    "#         image = preprocess_transform(image)\n",
    "\n",
    "#     return image_id, classification, image\n",
    "\n",
    "\n",
    "# training_data = ImageData(preprocess=True, dataset_type='complete', training_type='training', downsample_nc=True)\n",
    "# validation_data = ImageData(preprocess=True, dataset_type='complete', training_type='validation')\n",
    "# test_data = ImageData(preprocess=True, dataset_type='complete', training_type='test')\n"
   ]
  },
  {
   "cell_type": "markdown",
   "metadata": {},
   "source": [
    "# Alternative model: LeNet"
   ]
  },
  {
   "cell_type": "code",
   "execution_count": 24,
   "metadata": {},
   "outputs": [],
   "source": [
    "class LeNetBinaryClassifier(nn.Module):\n",
    "    def __init__(self, input_size=(224, 224)):\n",
    "        super(LeNetBinaryClassifier, self).__init__()\n",
    "        \n",
    "        self.conv1 = nn.Conv2d(3, 6, 5)\n",
    "        self.pool = nn.MaxPool2d(2, 2)\n",
    "        self.conv2 = nn.Conv2d(6, 16, 5)\n",
    "        \n",
    "        # Calculate the size of the output from the last conv/pooling block.\n",
    "        def conv_output_size(img_size, padding, kernel_size, stride):\n",
    "            return (img_size + 2*padding - (kernel_size - 1) - 1) // stride  + 1\n",
    "        \n",
    "        # Calculations assuming the input image is a square of size initial_size x initial_size\n",
    "        size = conv_output_size(input_size[0], 0, 5, 1)  # conv1: (224-5)/1 + 1 = 220\n",
    "        size = conv_output_size(size, 0, 2, 2)           # pool1: (220-2)/2 + 1 = 110\n",
    "        size = conv_output_size(size, 0, 5, 1)           # conv2: (110-5)/1 + 1 = 106\n",
    "        size = conv_output_size(size, 0, 2, 2)           # pool2: (106-2)/2 + 1 = 53\n",
    "\n",
    "        self.fc1 = nn.Linear(16 * size * size, 120)      # Adjust the input size\n",
    "        self.fc2 = nn.Linear(120, 84)\n",
    "        self.fc3 = nn.Linear(84, 1)\n",
    "        \n",
    "    def forward(self, x):\n",
    "        x = self.pool(F.relu(self.conv1(x)))\n",
    "        x = self.pool(F.relu(self.conv2(x)))\n",
    "        x = torch.flatten(x, 1)\n",
    "        x = F.relu(self.fc1(x))\n",
    "        x = F.relu(self.fc2(x))\n",
    "        x = torch.sigmoid(self.fc3(x))\n",
    "        return x"
   ]
  },
  {
   "cell_type": "code",
   "execution_count": 12,
   "metadata": {
    "colab": {
     "base_uri": "https://localhost:8080/"
    },
    "id": "gHvE0EB6rvEx",
    "outputId": "8ebc9dc2-9fbc-490c-bb61-97c799609528"
   },
   "outputs": [
    {
     "name": "stderr",
     "output_type": "stream",
     "text": [
      "100%|██████████| 55/55 [01:32<00:00,  1.68s/it]\n"
     ]
    },
    {
     "name": "stdout",
     "output_type": "stream",
     "text": [
      "Epoch:0, training accuracy: 87.13858424725822\n",
      "Correct: 881; Total: 988\n",
      "Validation Accuracy: 89.17%\n"
     ]
    },
    {
     "name": "stderr",
     "output_type": "stream",
     "text": [
      "100%|██████████| 55/55 [01:31<00:00,  1.66s/it]\n"
     ]
    },
    {
     "name": "stdout",
     "output_type": "stream",
     "text": [
      "Epoch:1, training accuracy: 89.81626548924655\n",
      "Correct: 881; Total: 988\n",
      "Validation Accuracy: 89.17%\n"
     ]
    },
    {
     "name": "stderr",
     "output_type": "stream",
     "text": [
      "100%|██████████| 55/55 [01:31<00:00,  1.66s/it]\n"
     ]
    },
    {
     "name": "stdout",
     "output_type": "stream",
     "text": [
      "Epoch:2, training accuracy: 89.81626548924655\n",
      "Correct: 881; Total: 988\n",
      "Validation Accuracy: 89.17%\n"
     ]
    }
   ],
   "source": [
    "# # TODO: Adjust input dimensions\n",
    "\n",
    "# model1 = LeNetBinaryClassifier(input_size=(224, 224)).to(device)\n",
    "model1 = FirstModel().to(device)\n",
    "\n",
    "batch_size = 128\n",
    "shuffle = True\n",
    "\n",
    "\n",
    "training = ImageData(preprocess=Preprocess, dataset_type='complete', training_type='training')\n",
    "training_data = DataLoader(dataset=training, batch_size=batch_size, shuffle=shuffle)\n",
    "\n",
    "validation = ImageData(preprocess=Preprocess, dataset_type='complete', training_type='validation')\n",
    "validation_data = DataLoader(dataset=validation, batch_size=batch_size, shuffle=shuffle)\n",
    "\n",
    "lr = .001\n",
    "num_epochs = 3\n",
    "\n",
    "criterion = nn.BCEWithLogitsLoss()\n",
    "optimizer = torch.optim.Adam(model1.parameters(), lr=lr)\n",
    "\n",
    "# Train:\n",
    "\n",
    "training_accuracies = []\n",
    "validation_accuracies = []\n",
    "\n",
    "# Train:\n",
    "for epoch in range(num_epochs):\n",
    "    model1.train()\n",
    "    running_loss = 0.0\n",
    "    correct = 0\n",
    "    total = 0\n",
    "    i = 0\n",
    "\n",
    "    for batch in tqdm(training_data):\n",
    "        _, labels, images = batch\n",
    "        num_labels = torch.tensor([1 if (label == 'mel' or label == 'bcc') else 0 for label in labels], dtype=torch.float32).to(device).unsqueeze(1)\n",
    "\n",
    "        optimizer.zero_grad()\n",
    "        outputs = model1(images)\n",
    "        loss = criterion(outputs, num_labels)\n",
    "        loss.backward()\n",
    "        optimizer.step()\n",
    "        \n",
    "        predicted = (outputs > 0).float()\n",
    "        total += num_labels.size(0)\n",
    "        correct += (predicted == num_labels).sum().item()\n",
    "\n",
    "        running_loss += loss.item()\n",
    "        i += 1\n",
    "        \n",
    "    # Store the average training accuracy for the current epoch\n",
    "    train_accuracy = 100 * correct / total\n",
    "    print(f\"Epoch:{epoch}, training accuracy: {train_accuracy}\")\n",
    "    training_accuracies.append(train_accuracy)\n",
    "    \n",
    "    model1.eval()\n",
    "    with torch.no_grad():\n",
    "        correct = 0\n",
    "        total = 0\n",
    "        for batch in validation_data:\n",
    "            _, labels, images = batch\n",
    "\n",
    "            num_labels = torch.tensor([1 if (label == 'mel' or label == 'bcc') else 0 for label in labels], dtype=torch.float32).to(device).unsqueeze(1)\n",
    "    #         print(images.shape) \n",
    "            outputs = model1(images)\n",
    "            predicted = (outputs > 0).float()\n",
    "\n",
    "            total += num_labels.size(0)\n",
    "            correct += (predicted == num_labels).sum().item()\n",
    "\n",
    "        val_accuracy = 100 * correct / total\n",
    "        validation_accuracies.append(val_accuracy)\n",
    "        print(f\"Correct: {correct}; Total: {total}\")\n",
    "        print(f'Validation Accuracy: {val_accuracy:.2f}%')\n"
   ]
  },
  {
   "cell_type": "code",
   "execution_count": 11,
   "metadata": {},
   "outputs": [
    {
     "data": {
      "image/png": "[encoded data removed]",
      "text/plain": [
       "<Figure size 720x360 with 1 Axes>"
      ]
     },
     "metadata": {
      "needs_background": "light"
     },
     "output_type": "display_data"
    },
    {
     "data": {
      "image/png": "[encoded data removed]",
      "text/plain": [
       "<Figure size 720x360 with 1 Axes>"
      ]
     },
     "metadata": {
      "needs_background": "light"
     },
     "output_type": "display_data"
    }
   ],
   "source": [
    "import seaborn as sns\n",
    "plt.figure(figsize=(10, 5))\n",
    "sns.lineplot(x=range(1, num_epochs+1), y=training_accuracies)\n",
    "plt.title('Training Accuracy over Epochs for LeNet')\n",
    "plt.xlabel('Epochs')\n",
    "plt.ylabel('Training Accuracy (%)')\n",
    "plt.savefig('model1_train_acc_original_lenet.png')\n",
    "plt.show()\n",
    "\n",
    "\n",
    "# Plot validation accuracy\n",
    "plt.figure(figsize=(10, 5))\n",
    "sns.lineplot(x=range(1, num_epochs+1), y=validation_accuracies)\n",
    "plt.title('Validation Accuracy over Epochs for LeNet')\n",
    "plt.xlabel('Epochs')\n",
    "plt.ylabel('Validation Accuracy (%)')\n",
    "plt.show()\n"
   ]
  },
  {
   "cell_type": "code",
   "execution_count": 6,
   "metadata": {},
   "outputs": [],
   "source": [
    "# model = model_2_with_residual().to(device)\n",
    "# criterion = nn.BCEWithLogitsLoss()\n",
    "# optimizer = torch.optim.Adam(model.parameters(), lr=0.001)\n",
    "# num_epochs = 5\n",
    "\n",
    "# # Lists for tracking accuracy\n",
    "# training_accuracies = []\n",
    "# validation_accuracies = []\n",
    "\n",
    "# # Training loop\n",
    "# for epoch in range(num_epochs):\n",
    "#     # Training phase\n",
    "#     model.train()\n",
    "#     train_correct = 0\n",
    "#     train_total = 0\n",
    "\n",
    "#     for batch in tqdm(training_data, desc='Training Epoch {}'.format(epoch+1)):\n",
    "#         _, labels, images = batch\n",
    "#         images = images.to(device)\n",
    "#         # Convert labels to a tensor of 0s and 1s\n",
    "#         num_labels = torch.tensor([1 if label == 'mel' or label == 'bcc' else 0 for label in labels], dtype=torch.float32).to(device).unsqueeze(1)\n",
    "        \n",
    "#         optimizer.zero_grad()\n",
    "        \n",
    "#         outputs = model(images)\n",
    "#         loss = criterion(outputs, num_labels)\n",
    "#         loss.backward()\n",
    "#         optimizer.step()\n",
    "        \n",
    "#         predicted = torch.round(torch.sigmoid(outputs))\n",
    "#         train_total += num_labels.size(0)\n",
    "#         train_correct += (predicted == num_labels).sum().item()\n",
    "\n",
    "#     train_accuracy = 100 * train_correct / train_total\n",
    "#     training_accuracies.append(train_accuracy)\n",
    "    \n",
    "#     # Validation phase\n",
    "#     model.eval()\n",
    "#     valid_correct = 0\n",
    "#     valid_total = 0\n",
    "    \n",
    "#     with torch.no_grad():\n",
    "#         for batch in tqdm(validation_data, desc='Validation Epoch {}'.format(epoch+1)):\n",
    "#             _, labels, images = batch\n",
    "#             images = images.to(device)\n",
    "#             num_labels = torch.tensor([1 if label == 'mel' or label == 'bcc' else 0 for label in labels], dtype=torch.float32).to(device).unsqueeze(1)\n",
    "            \n",
    "#             outputs = model(images)\n",
    "#             predicted = torch.round(torch.sigmoid(outputs))\n",
    "#             valid_total += num_labels.size(0)\n",
    "#             valid_correct += (predicted == num_labels).sum().item()\n",
    "\n",
    "#     valid_accuracy = 100 * valid_correct / valid_total\n",
    "#     validation_accuracies.append(valid_accuracy)\n",
    "    \n",
    "#     # Print accuracies for the epoch\n",
    "#     print(f'Epoch [{epoch+1}/{num_epochs}], Train Accuracy: {train_accuracy:.2f}%, Validation Accuracy: {valid_accuracy:.2f}%')\n",
    "\n",
    "# # Plotting the training and validation accuracies\n",
    "# plt.figure(figsize=(10, 5))\n",
    "# sns.lineplot(range(1, num_epochs + 1), training_accuracies, marker='o', label='Training Accuracy')\n",
    "# sns.lineplot(range(1, num_epochs + 1), validation_accuracies, marker='o', label='Validation Accuracy')\n",
    "# plt.title('Training and Validation Accuracies')\n",
    "# plt.xlabel('Epoch')\n",
    "# plt.ylabel('Accuracy (%)')\n",
    "# plt.legend()\n",
    "# plt.show()\n"
   ]
  },
  {
   "cell_type": "code",
   "execution_count": 25,
   "metadata": {},
   "outputs": [
    {
     "data": {
      "image/png": "[encoded data removed]",
      "text/plain": [
       "<Figure size 720x360 with 1 Axes>"
      ]
     },
     "metadata": {
      "needs_background": "light"
     },
     "output_type": "display_data"
    }
   ],
   "source": [
    "import seaborn as sns\n",
    "plt.figure(figsize=(10, 5))\n",
    "sns.lineplot(x=range(1, num_epochs+1), y=training_accuracies)\n",
    "plt.title('Training Accuracy over Epochs for the First Model')\n",
    "plt.xlabel('Epochs')\n",
    "plt.ylabel('Training Accuracy (%)')\n",
    "plt.savefig('model1_train_acc_downsampled_our_model.png')\n",
    "plt.show()"
   ]
  },
  {
   "cell_type": "markdown",
   "metadata": {},
   "source": [
    "# Class breakdown:"
   ]
  },
  {
   "cell_type": "code",
   "execution_count": 13,
   "metadata": {},
   "outputs": [
    {
     "name": "stderr",
     "output_type": "stream",
     "text": [
      "/opt/anaconda/lib/python3.9/site-packages/torchvision/transforms/functional.py:1603: UserWarning: The default value of the antialias parameter of all the resizing transforms (Resize(), RandomResizedCrop(), etc.) will change from None to True in v0.17, in order to be consistent across the PIL and Tensor backends. To suppress this warning, directly pass antialias=True (recommended, future default), antialias=None (current default, which means False for Tensors and True for PIL), or antialias=False (only works on Tensors - PIL will still use antialiasing). This also applies if you are using the inference transforms from the models weights: update the call to weights.transforms(antialias=True).\n",
      "  warnings.warn(\n"
     ]
    },
    {
     "name": "stdout",
     "output_type": "stream",
     "text": [
      "Training set class distribution: Counter({'nv': 4726, 'bkl': 1249, 'mel': 363, 'bcc': 352, 'akiec': 234, 'vasc': 97})\n",
      "Validation set class distribution: Counter({'nv': 691, 'bkl': 148, 'bcc': 61, 'mel': 46, 'akiec': 27, 'vasc': 15})\n"
     ]
    }
   ],
   "source": [
    "from collections import Counter\n",
    "\n",
    "def check_class_distribution(data_loader):\n",
    "    label_counter = Counter()\n",
    "    for _, labels, _ in data_loader:\n",
    "        label_counter.update(labels)\n",
    "    return label_counter\n",
    "\n",
    "# Use check_class_distribution on your training_data and validation_data\n",
    "train_class_dist = check_class_distribution(training_data)\n",
    "val_class_dist = check_class_distribution(validation_data)\n",
    "\n",
    "print(\"Training set class distribution:\", train_class_dist)\n",
    "print(\"Validation set class distribution:\", val_class_dist)\n"
   ]
  },
  {
   "cell_type": "code",
   "execution_count": 31,
   "metadata": {},
   "outputs": [],
   "source": [
    "# from sklearn.metrics import f1_score\n",
    "\n",
    "# model.eval()\n",
    "\n",
    "# # Lists to store all true labels and predicted labels for the validation dataset\n",
    "# all_true_labels = []\n",
    "# all_pred_labels = []\n",
    "\n",
    "# with torch.no_grad():\n",
    "#     for batch in validation_data:\n",
    "#         _, labels, images = batch\n",
    "#         num_labels = torch.tensor([1 if (label == 'mel' or label == 'bcc') else 0 for label in labels], dtype=torch.float32).to(device).unsqueeze(1)\n",
    "#         outputs = model(images)\n",
    "        \n",
    "#         # Since outputs are logits, apply sigmoid and then threshold at 0.5 for binary classification\n",
    "#         preds = torch.sigmoid(outputs) > 0.5\n",
    "        \n",
    "#         # Move predictions and true labels to CPU and convert them to NumPy arrays\n",
    "#         preds = preds.cpu().numpy()\n",
    "#         labels_np = num_labels.cpu().numpy()\n",
    "        \n",
    "#         # Extend the lists with the flattened arrays\n",
    "#         all_true_labels.extend(labels_np.flatten())\n",
    "#         all_pred_labels.extend(preds.flatten())\n",
    "\n",
    "# # Calculate F1 score\n",
    "# f1 = f1_score(all_true_labels, all_pred_labels)\n",
    "# print(f'Validation F1 Score: {f1:.4f}')\n"
   ]
  },
  {
   "cell_type": "markdown",
   "metadata": {
    "id": "-mn2I3rgM8b8"
   },
   "source": [
    "# **The second model:**\n",
    "- Used if the first model which cancer (bcc or mel)\n",
    "- Predict which type of cancer it is.\n",
    "\n",
    "Architecture:\n",
    "1. Input layer: 224, 224, 3\n",
    "\n",
    "2. Convolutional blocks: (mayebe 3)\n",
    "  - Block 1:  \n",
    "    - filters=32, kernel_size=(3, 3), activation='relu', padding='same' - activation and kernel size are subject to change\n",
    "    - BatchNormalization(),\n",
    "    - MaxPooling2D(pool_size=(2, 2)) - subject to change\n",
    "    - Dropout(0.1) - dropout rate is subject to change\n",
    "    \n",
    "  - Block 2:\n",
    "    - filters=64, kernel_size=(3, 3), activation='relu', padding='same' - activation and kernel size are subject to change\n",
    "    - BatchNormalization(),\n",
    "    - MaxPooling2D(pool_size=(2, 2)),\n",
    "    - Dropout(0.25) - dropout rate is subject to change\n",
    "\n",
    "  - Block 3 (last block):\n",
    "    - Conv2D(filters=128, kernel_size=(3, 3), activation='relu', padding='same'),\n",
    "    - BatchNormalization(),\n",
    "    - MaxPooling2D(pool_size=(2, 2)),\n",
    "    - Dropout(0.25),\n",
    "\n",
    "3. Fully connected layer (after flatten the output from convolutional layer):\n",
    "  - Dense(256, activation='relu'),\n",
    "  - Dropout(0.2)\n",
    "\n",
    "4. Output:\n",
    "  - Dense(num_classes, activation='softmax')"
   ]
  },
  {
   "cell_type": "markdown",
   "metadata": {
    "id": "ZgVCHm-fAHDw"
   },
   "source": [
    "<!-- class Network(nn.Module):\n",
    "    def __init__(self):\n",
    "        super().__init__()\n",
    "       \n",
    "        self.conv1 = nn.Conv2d(in_channels=1, out_channels=32, kernel_size=3, padding=1)\n",
    "        self.conv2 = nn.Conv2d(32, 64, kernel_size=3, padding=1)\n",
    "        self.pool = nn.MaxPool2d(kernel_size=2, stride=2)\n",
    "        self.pool = nn.AvgPool2d(kernel_size=2, stride=2)\n",
    "        self.fc1 = nn.Linear(64 * 7 * 7, 128)\n",
    "  \n",
    "    def forward(self, x):\n",
    "       \n",
    "        x = self.pool(torch.relu(self.conv1(x)))\n",
    "        x = self.pool(torch.relu(self.conv2(x)))\n",
    "        x = torch.flatten(x, 1)\n",
    "        x = torch.relu(self.fc1(x))\n",
    "        return x -->"
   ]
  },
  {
   "cell_type": "code",
   "execution_count": 6,
   "metadata": {
    "id": "723_Sgc0Xo89"
   },
   "outputs": [],
   "source": [
    "from torch.utils.data import DataLoader\n",
    "\n",
    "# Tunable Parameters:\n",
    "batch_size = 128\n",
    "shuffle = True\n",
    "\n",
    "\n",
    "training = ImageData(preprocess=Preprocess, dataset_type='cancerous', training_type='training')\n",
    "training_data = DataLoader(dataset=training, batch_size=batch_size, shuffle=shuffle)\n",
    "\n",
    "validation = ImageData(preprocess=Preprocess, dataset_type='cancerous', training_type='validation')\n",
    "validation_data = DataLoader(dataset=validation, batch_size=batch_size, shuffle=shuffle)\n",
    "\n",
    "test = ImageData(preprocess=Preprocess, dataset_type='cancerous', training_type='test')\n",
    "test_data = DataLoader(dataset=test, batch_size=batch_size, shuffle=shuffle)"
   ]
  },
  {
   "cell_type": "markdown",
   "metadata": {
    "id": "NmXV68d8pmxp"
   },
   "source": [
    "# Model 2 without residual connection:"
   ]
  },
  {
   "cell_type": "code",
   "execution_count": 7,
   "metadata": {
    "id": "u7-pwhFDODn4"
   },
   "outputs": [],
   "source": [
    "import torch.nn as nn\n",
    "import torch.nn.functional as F\n",
    "\n",
    "class model2(nn.Module):\n",
    "    def __init__(self):\n",
    "        super(model2, self).__init__()\n",
    "\n",
    "        self.block1 = nn.Sequential(\n",
    "            nn.Conv2d(3, 32, 3, padding=1),\n",
    "            nn.BatchNorm2d(32),\n",
    "            nn.ReLU(),\n",
    "            nn.MaxPool2d(2),\n",
    "            nn.Dropout(0.2)\n",
    "        )\n",
    "\n",
    "        self.block2 = nn.Sequential(\n",
    "            nn.Conv2d(32, 64, 3, padding=1),\n",
    "            nn.BatchNorm2d(64),\n",
    "            nn.ReLU(),\n",
    "            nn.MaxPool2d(kernel_size=2, stride=2),\n",
    "            nn.Dropout(0.2)\n",
    "        )\n",
    "# add residual connection\n",
    "        self.block3 = nn.Sequential(\n",
    "            nn.Conv2d(64, 128, kernel_size=3, padding=1),\n",
    "            nn.BatchNorm2d(128),\n",
    "            nn.ReLU(),\n",
    "            nn.MaxPool2d(kernel_size=2, stride=2),\n",
    "            nn.Dropout2d(0.2)\n",
    "        )\n",
    "\n",
    "        self.fc = nn.Sequential(\n",
    "            nn.Linear(100352, 256),\n",
    "            nn.ReLU(),\n",
    "            nn.Dropout(0.2),\n",
    "            nn.Linear(256, 1)\n",
    "        )\n",
    "\n",
    "    def forward(self, x):\n",
    "        out = self.block1(x)\n",
    "        out = self.block2(out)\n",
    "        out = self.block3(out)\n",
    "        out = out.view(out.size(0), -1)\n",
    "        out = self.fc(out)\n",
    "        return torch.sigmoid(out)\n"
   ]
  },
  {
   "cell_type": "markdown",
   "metadata": {
    "id": "nFufz0t0AfTX"
   },
   "source": [
    "# Model2 architecture with residual connection"
   ]
  },
  {
   "cell_type": "code",
   "execution_count": 8,
   "metadata": {
    "id": "DNsWbN4wv-4f"
   },
   "outputs": [],
   "source": [
    "class ResidualBlock(nn.Module):\n",
    "    def __init__(self, in_channels, out_channels, stride=1, downsample=None):\n",
    "        super(ResidualBlock, self).__init__()\n",
    "        self.conv1 = nn.Conv2d(in_channels, out_channels, kernel_size=3,\n",
    "                               stride=stride, padding=1, bias=False)\n",
    "        self.bn1 = nn.BatchNorm2d(out_channels)\n",
    "        self.relu = nn.ReLU(inplace=True)\n",
    "        self.conv2 = nn.Conv2d(out_channels, out_channels, kernel_size=3,\n",
    "                               padding=1, bias=False)\n",
    "        self.bn2 = nn.BatchNorm2d(out_channels)\n",
    "        self.downsample = downsample\n",
    "\n",
    "    def forward(self, x):\n",
    "        residual = x\n",
    "        out = self.conv1(x)\n",
    "        out = self.bn1(out)\n",
    "        out = self.relu(out)\n",
    "        out = self.conv2(out)\n",
    "        out = self.bn2(out)\n",
    "\n",
    "        if self.downsample is not None:\n",
    "            residual = self.downsample(x)\n",
    "\n",
    "        out += residual\n",
    "        out = self.relu(out)\n",
    "        return out\n",
    "\n",
    "class model_2_with_residual(nn.Module):\n",
    "    def __init__(self):\n",
    "        super(model_2_with_residual, self).__init__()\n",
    "\n",
    "        self.block1 = nn.Sequential(\n",
    "            nn.Conv2d(3, 32, 3, padding=1),\n",
    "            nn.BatchNorm2d(32),\n",
    "            nn.ReLU(),\n",
    "            nn.MaxPool2d(2),\n",
    "            nn.Dropout(0.2)\n",
    "        )\n",
    "\n",
    "        self.block2 = nn.Sequential(\n",
    "            nn.Conv2d(32, 64, 3, padding=1),\n",
    "            nn.BatchNorm2d(64),\n",
    "            nn.ReLU(),\n",
    "            nn.MaxPool2d(kernel_size=2, stride=2),\n",
    "            nn.Dropout(0.2)\n",
    "        )\n",
    "\n",
    "        # Adjustment for channel increase and potential size difference in residual connection\n",
    "        self.downsample = nn.Sequential(\n",
    "            nn.Conv2d(64, 128, 1, stride=2, bias=False),  # Stride set to 2 for spatial size reduction\n",
    "            nn.BatchNorm2d(128)\n",
    "        )\n",
    "        self.residual_block = ResidualBlock(64, 128, stride=2, downsample=self.downsample)\n",
    "\n",
    "        self.block3 = nn.Sequential(\n",
    "            nn.Conv2d(128, 128, 3, padding=1),  # Adjusted input channels to 128\n",
    "            nn.BatchNorm2d(128),\n",
    "            nn.ReLU(),\n",
    "            nn.MaxPool2d(2),\n",
    "            nn.Dropout(0.2)\n",
    "        )\n",
    "        \n",
    "        self.fc = nn.Sequential(\n",
    "            nn.Linear(25088, 256), \n",
    "            nn.ReLU(),\n",
    "            nn.Dropout(0.2),\n",
    "            nn.Linear(256, 1)\n",
    "        )\n",
    "\n",
    "        # You will need to recalculate the size here based on your network's architecture\n",
    "#         self.fc = nn.Sequential(\n",
    "#             nn.Linear(512, 256),\n",
    "#             nn.ReLU(),\n",
    "#             nn.Dropout(0.2),\n",
    "#             nn.Linear(256, 1)\n",
    "#         )\n",
    "\n",
    "    def forward(self, x):\n",
    "        out = self.block1(x)\n",
    "        out = self.block2(out)\n",
    "        out = self.residual_block(out)  # Applying the residual block\n",
    "        out = self.block3(out)         # Additional layers after the residual block\n",
    "\n",
    "        out = out.view(out.size(0), -1)  # Flatten the output for the fully connected layer\n",
    "        out = self.fc(out)               # Fully connected layer operation\n",
    "        return out\n",
    "    "
   ]
  },
  {
   "cell_type": "markdown",
   "metadata": {
    "id": "Kqj0Dvt62sQd"
   },
   "source": [
    "# Train and validate model 2 With Residual:"
   ]
  },
  {
   "cell_type": "code",
   "execution_count": 13,
   "metadata": {},
   "outputs": [
    {
     "name": "stderr",
     "output_type": "stream",
     "text": [
      "Training Epoch 1: 100%|██████████| 11/11 [00:16<00:00,  1.54s/it]\n",
      "Validation Epoch 1: 100%|██████████| 2/2 [00:02<00:00,  1.10s/it]\n"
     ]
    },
    {
     "name": "stdout",
     "output_type": "stream",
     "text": [
      "Epoch [1/10], Train Accuracy: 69.88%, Validation Accuracy: 27.44%\n"
     ]
    },
    {
     "name": "stderr",
     "output_type": "stream",
     "text": [
      "Training Epoch 2: 100%|██████████| 11/11 [00:16<00:00,  1.51s/it]\n",
      "Validation Epoch 2: 100%|██████████| 2/2 [00:02<00:00,  1.02s/it]\n"
     ]
    },
    {
     "name": "stdout",
     "output_type": "stream",
     "text": [
      "Epoch [2/10], Train Accuracy: 84.44%, Validation Accuracy: 31.10%\n"
     ]
    },
    {
     "name": "stderr",
     "output_type": "stream",
     "text": [
      "Training Epoch 3: 100%|██████████| 11/11 [00:16<00:00,  1.52s/it]\n",
      "Validation Epoch 3: 100%|██████████| 2/2 [00:02<00:00,  1.02s/it]\n"
     ]
    },
    {
     "name": "stdout",
     "output_type": "stream",
     "text": [
      "Epoch [3/10], Train Accuracy: 83.51%, Validation Accuracy: 58.54%\n"
     ]
    },
    {
     "name": "stderr",
     "output_type": "stream",
     "text": [
      "Training Epoch 4: 100%|██████████| 11/11 [00:16<00:00,  1.51s/it]\n",
      "Validation Epoch 4: 100%|██████████| 2/2 [00:02<00:00,  1.01s/it]\n"
     ]
    },
    {
     "name": "stdout",
     "output_type": "stream",
     "text": [
      "Epoch [4/10], Train Accuracy: 85.82%, Validation Accuracy: 79.88%\n"
     ]
    },
    {
     "name": "stderr",
     "output_type": "stream",
     "text": [
      "Training Epoch 5: 100%|██████████| 11/11 [00:16<00:00,  1.52s/it]\n",
      "Validation Epoch 5: 100%|██████████| 2/2 [00:02<00:00,  1.03s/it]\n"
     ]
    },
    {
     "name": "stdout",
     "output_type": "stream",
     "text": [
      "Epoch [5/10], Train Accuracy: 87.21%, Validation Accuracy: 84.15%\n"
     ]
    },
    {
     "name": "stderr",
     "output_type": "stream",
     "text": [
      "Training Epoch 6: 100%|██████████| 11/11 [00:16<00:00,  1.51s/it]\n",
      "Validation Epoch 6: 100%|██████████| 2/2 [00:02<00:00,  1.00s/it]\n"
     ]
    },
    {
     "name": "stdout",
     "output_type": "stream",
     "text": [
      "Epoch [6/10], Train Accuracy: 87.52%, Validation Accuracy: 85.37%\n"
     ]
    },
    {
     "name": "stderr",
     "output_type": "stream",
     "text": [
      "Training Epoch 7: 100%|██████████| 11/11 [00:16<00:00,  1.50s/it]\n",
      "Validation Epoch 7: 100%|██████████| 2/2 [00:02<00:00,  1.00s/it]\n"
     ]
    },
    {
     "name": "stdout",
     "output_type": "stream",
     "text": [
      "Epoch [7/10], Train Accuracy: 88.21%, Validation Accuracy: 85.37%\n"
     ]
    },
    {
     "name": "stderr",
     "output_type": "stream",
     "text": [
      "Training Epoch 8: 100%|██████████| 11/11 [00:16<00:00,  1.53s/it]\n",
      "Validation Epoch 8: 100%|██████████| 2/2 [00:02<00:00,  1.07s/it]\n"
     ]
    },
    {
     "name": "stdout",
     "output_type": "stream",
     "text": [
      "Epoch [8/10], Train Accuracy: 88.98%, Validation Accuracy: 86.59%\n"
     ]
    },
    {
     "name": "stderr",
     "output_type": "stream",
     "text": [
      "Training Epoch 9: 100%|██████████| 11/11 [00:16<00:00,  1.53s/it]\n",
      "Validation Epoch 9: 100%|██████████| 2/2 [00:02<00:00,  1.03s/it]\n"
     ]
    },
    {
     "name": "stdout",
     "output_type": "stream",
     "text": [
      "Epoch [9/10], Train Accuracy: 87.98%, Validation Accuracy: 84.15%\n"
     ]
    },
    {
     "name": "stderr",
     "output_type": "stream",
     "text": [
      "Training Epoch 10: 100%|██████████| 11/11 [00:16<00:00,  1.53s/it]\n",
      "Validation Epoch 10: 100%|██████████| 2/2 [00:02<00:00,  1.03s/it]"
     ]
    },
    {
     "name": "stdout",
     "output_type": "stream",
     "text": [
      "Epoch [10/10], Train Accuracy: 88.91%, Validation Accuracy: 85.98%\n"
     ]
    },
    {
     "name": "stderr",
     "output_type": "stream",
     "text": [
      "\n"
     ]
    }
   ],
   "source": [
    "model = model_2_with_residual().to(device)\n",
    "criterion = nn.BCEWithLogitsLoss()\n",
    "optimizer = torch.optim.Adam(model.parameters(), lr=0.001)\n",
    "num_epochs = 10\n",
    "\n",
    "# Lists for tracking accuracy\n",
    "training_accuracies = []\n",
    "validation_accuracies = []\n",
    "\n",
    "# Training loop\n",
    "for epoch in range(num_epochs):\n",
    "    # Training phase\n",
    "    model.train()\n",
    "    train_correct = 0\n",
    "    train_total = 0\n",
    "\n",
    "    for batch in tqdm(training_data, desc='Training Epoch {}'.format(epoch+1)):\n",
    "        _, labels, images = batch\n",
    "        images = images.to(device)\n",
    "        # Convert labels to a tensor of 0s and 1s\n",
    "        num_labels = torch.tensor([1 if label == 'mel' else 0 for label in labels], dtype=torch.float32).to(device).unsqueeze(1)\n",
    "        \n",
    "        optimizer.zero_grad()\n",
    "        \n",
    "        outputs = model(images)\n",
    "        loss = criterion(outputs, num_labels)\n",
    "        loss.backward()\n",
    "        optimizer.step()\n",
    "        \n",
    "        predicted = torch.round(torch.sigmoid(outputs))\n",
    "        train_total += num_labels.size(0)\n",
    "        train_correct += (predicted == num_labels).sum().item()\n",
    "\n",
    "    train_accuracy = 100 * train_correct / train_total\n",
    "    training_accuracies.append(train_accuracy)\n",
    "    \n",
    "    # Validation phase\n",
    "    model.eval()\n",
    "    valid_correct = 0\n",
    "    valid_total = 0\n",
    "    \n",
    "    with torch.no_grad():\n",
    "        for batch in tqdm(validation_data, desc='Validation Epoch {}'.format(epoch+1)):\n",
    "            _, labels, images = batch\n",
    "            images = images.to(device)\n",
    "            num_labels = torch.tensor([1 if label == 'mel' else 0 for label in labels], dtype=torch.float32).to(device).unsqueeze(1)\n",
    "            \n",
    "            outputs = model(images)\n",
    "            predicted = torch.round(torch.sigmoid(outputs))\n",
    "            valid_total += num_labels.size(0)\n",
    "            valid_correct += (predicted == num_labels).sum().item()\n",
    "\n",
    "    valid_accuracy = 100 * valid_correct / valid_total\n",
    "    validation_accuracies.append(valid_accuracy)\n",
    "    \n",
    "    # Print accuracies for the epoch\n",
    "    print(f'Epoch [{epoch+1}/{num_epochs}], Train Accuracy: {train_accuracy:.2f}%, Validation Accuracy: {valid_accuracy:.2f}%')\n"
   ]
  },
  {
   "cell_type": "code",
   "execution_count": 13,
   "metadata": {},
   "outputs": [
    {
     "name": "stderr",
     "output_type": "stream",
     "text": [
      "/sw/pkgs/arc/python3.9-anaconda/2021.11/lib/python3.9/site-packages/seaborn/_decorators.py:36: FutureWarning: Pass the following variables as keyword args: x, y. From version 0.12, the only valid positional argument will be `data`, and passing other arguments without an explicit keyword will result in an error or misinterpretation.\n",
      "  warnings.warn(\n",
      "/sw/pkgs/arc/python3.9-anaconda/2021.11/lib/python3.9/site-packages/seaborn/_decorators.py:36: FutureWarning: Pass the following variables as keyword args: x, y. From version 0.12, the only valid positional argument will be `data`, and passing other arguments without an explicit keyword will result in an error or misinterpretation.\n",
      "  warnings.warn(\n"
     ]
    },
    {
     "data": {
      "image/png": "[encoded data removed]",
      "text/plain": [
       "<Figure size 720x360 with 1 Axes>"
      ]
     },
     "metadata": {
      "needs_background": "light"
     },
     "output_type": "display_data"
    }
   ],
   "source": [
    "plt.figure(figsize=(10, 5))\n",
    "sns.lineplot(range(1, num_epochs + 1), training_accuracies, marker='o', label='Training Accuracy')\n",
    "sns.lineplot(range(1, num_epochs + 1), validation_accuracies, marker='o', label='Validation Accuracy')\n",
    "plt.title('Training and Validation Accuracies of Model 2 With Residual Connection')\n",
    "plt.xlabel('Epoch')\n",
    "plt.ylabel('Accuracy (%)')\n",
    "plt.legend()\n",
    "plt.savefig('train_valid_acc_model_2_residual.png')\n",
    "plt.show()"
   ]
  },
  {
   "cell_type": "markdown",
   "metadata": {
    "id": "w-as9Vgh3BKv"
   },
   "source": [
    "# Train and validate model 2 without residual:"
   ]
  },
  {
   "cell_type": "code",
   "execution_count": 9,
   "metadata": {
    "id": "1VvhDiJnhFUy"
   },
   "outputs": [
    {
     "name": "stderr",
     "output_type": "stream",
     "text": [
      "Training Epoch 1: 100%|██████████| 11/11 [00:17<00:00,  1.63s/it]\n",
      "Validation Epoch 1: 100%|██████████| 2/2 [00:02<00:00,  1.04s/it]\n"
     ]
    },
    {
     "name": "stdout",
     "output_type": "stream",
     "text": [
      "Epoch [1/10], Train Accuracy: 68.57%, Validation Accuracy: 72.56%\n"
     ]
    },
    {
     "name": "stderr",
     "output_type": "stream",
     "text": [
      "Training Epoch 2: 100%|██████████| 11/11 [00:17<00:00,  1.56s/it]\n",
      "Validation Epoch 2: 100%|██████████| 2/2 [00:02<00:00,  1.02s/it]\n"
     ]
    },
    {
     "name": "stdout",
     "output_type": "stream",
     "text": [
      "Epoch [2/10], Train Accuracy: 68.57%, Validation Accuracy: 72.56%\n"
     ]
    },
    {
     "name": "stderr",
     "output_type": "stream",
     "text": [
      "Training Epoch 3: 100%|██████████| 11/11 [00:17<00:00,  1.55s/it]\n",
      "Validation Epoch 3: 100%|██████████| 2/2 [00:02<00:00,  1.02s/it]\n"
     ]
    },
    {
     "name": "stdout",
     "output_type": "stream",
     "text": [
      "Epoch [3/10], Train Accuracy: 68.57%, Validation Accuracy: 72.56%\n"
     ]
    },
    {
     "name": "stderr",
     "output_type": "stream",
     "text": [
      "Training Epoch 4: 100%|██████████| 11/11 [00:17<00:00,  1.55s/it]\n",
      "Validation Epoch 4: 100%|██████████| 2/2 [00:02<00:00,  1.03s/it]\n"
     ]
    },
    {
     "name": "stdout",
     "output_type": "stream",
     "text": [
      "Epoch [4/10], Train Accuracy: 68.57%, Validation Accuracy: 72.56%\n"
     ]
    },
    {
     "name": "stderr",
     "output_type": "stream",
     "text": [
      "Training Epoch 5: 100%|██████████| 11/11 [00:16<00:00,  1.54s/it]\n",
      "Validation Epoch 5: 100%|██████████| 2/2 [00:02<00:00,  1.03s/it]\n"
     ]
    },
    {
     "name": "stdout",
     "output_type": "stream",
     "text": [
      "Epoch [5/10], Train Accuracy: 68.57%, Validation Accuracy: 72.56%\n"
     ]
    },
    {
     "name": "stderr",
     "output_type": "stream",
     "text": [
      "Training Epoch 6: 100%|██████████| 11/11 [00:17<00:00,  1.56s/it]\n",
      "Validation Epoch 6: 100%|██████████| 2/2 [00:02<00:00,  1.04s/it]\n"
     ]
    },
    {
     "name": "stdout",
     "output_type": "stream",
     "text": [
      "Epoch [6/10], Train Accuracy: 68.57%, Validation Accuracy: 72.56%\n"
     ]
    },
    {
     "name": "stderr",
     "output_type": "stream",
     "text": [
      "Training Epoch 7: 100%|██████████| 11/11 [00:16<00:00,  1.54s/it]\n",
      "Validation Epoch 7: 100%|██████████| 2/2 [00:02<00:00,  1.03s/it]\n"
     ]
    },
    {
     "name": "stdout",
     "output_type": "stream",
     "text": [
      "Epoch [7/10], Train Accuracy: 68.57%, Validation Accuracy: 72.56%\n"
     ]
    },
    {
     "name": "stderr",
     "output_type": "stream",
     "text": [
      "Training Epoch 8: 100%|██████████| 11/11 [00:16<00:00,  1.53s/it]\n",
      "Validation Epoch 8: 100%|██████████| 2/2 [00:02<00:00,  1.02s/it]\n"
     ]
    },
    {
     "name": "stdout",
     "output_type": "stream",
     "text": [
      "Epoch [8/10], Train Accuracy: 68.57%, Validation Accuracy: 72.56%\n"
     ]
    },
    {
     "name": "stderr",
     "output_type": "stream",
     "text": [
      "Training Epoch 9: 100%|██████████| 11/11 [00:16<00:00,  1.53s/it]\n",
      "Validation Epoch 9: 100%|██████████| 2/2 [00:02<00:00,  1.02s/it]\n"
     ]
    },
    {
     "name": "stdout",
     "output_type": "stream",
     "text": [
      "Epoch [9/10], Train Accuracy: 68.57%, Validation Accuracy: 72.56%\n"
     ]
    },
    {
     "name": "stderr",
     "output_type": "stream",
     "text": [
      "Training Epoch 10: 100%|██████████| 11/11 [00:16<00:00,  1.54s/it]\n",
      "Validation Epoch 10: 100%|██████████| 2/2 [00:02<00:00,  1.02s/it]"
     ]
    },
    {
     "name": "stdout",
     "output_type": "stream",
     "text": [
      "Epoch [10/10], Train Accuracy: 68.57%, Validation Accuracy: 72.56%\n"
     ]
    },
    {
     "name": "stderr",
     "output_type": "stream",
     "text": [
      "\n"
     ]
    }
   ],
   "source": [
    "model = model2().to(device)\n",
    "criterion = nn.BCEWithLogitsLoss()\n",
    "optimizer = torch.optim.Adam(model.parameters(), lr=0.001)\n",
    "num_epochs = 10\n",
    "\n",
    "# Lists for tracking accuracy\n",
    "training_accuracies = []\n",
    "validation_accuracies = []\n",
    "\n",
    "# Training loop\n",
    "for epoch in range(num_epochs):\n",
    "    # Training phase\n",
    "    model.train()\n",
    "    train_correct = 0\n",
    "    train_total = 0\n",
    "\n",
    "    for batch in tqdm(training_data, desc='Training Epoch {}'.format(epoch+1)):\n",
    "        _, labels, images = batch\n",
    "        images = images.to(device)\n",
    "        # Convert labels to a tensor of 0s and 1s\n",
    "        num_labels = torch.tensor([1 if label == 'mel' else 0 for label in labels], dtype=torch.float32).to(device).unsqueeze(1)\n",
    "        \n",
    "        optimizer.zero_grad()\n",
    "        \n",
    "        outputs = model(images)\n",
    "        loss = criterion(outputs, num_labels)\n",
    "        loss.backward()\n",
    "        optimizer.step()\n",
    "        \n",
    "        predicted = torch.round(torch.sigmoid(outputs))\n",
    "        train_total += num_labels.size(0)\n",
    "        train_correct += (predicted == num_labels).sum().item()\n",
    "\n",
    "    train_accuracy = 100 * train_correct / train_total\n",
    "    training_accuracies.append(train_accuracy)\n",
    "    \n",
    "    # Validation phase\n",
    "    model.eval()\n",
    "    valid_correct = 0\n",
    "    valid_total = 0\n",
    "    \n",
    "    with torch.no_grad():\n",
    "        for batch in tqdm(validation_data, desc='Validation Epoch {}'.format(epoch+1)):\n",
    "            _, labels, images = batch\n",
    "            images = images.to(device)\n",
    "            num_labels = torch.tensor([1 if label == 'mel' else 0 for label in labels], dtype=torch.float32).to(device).unsqueeze(1)\n",
    "            \n",
    "            outputs = model(images)\n",
    "            predicted = torch.round(torch.sigmoid(outputs))\n",
    "            valid_total += num_labels.size(0)\n",
    "            valid_correct += (predicted == num_labels).sum().item()\n",
    "\n",
    "    valid_accuracy = 100 * valid_correct / valid_total\n",
    "    validation_accuracies.append(valid_accuracy)\n",
    "    \n",
    "    # Print accuracies for the epoch\n",
    "    print(f'Epoch [{epoch+1}/{num_epochs}], Train Accuracy: {train_accuracy:.2f}%, Validation Accuracy: {valid_accuracy:.2f}%')\n",
    "\n"
   ]
  },
  {
   "cell_type": "code",
   "execution_count": 10,
   "metadata": {},
   "outputs": [
    {
     "name": "stdout",
     "output_type": "stream",
     "text": [
      "Training set class distribution: Counter({'mel': 890, 'bcc': 408})\n",
      "Validation set class distribution: Counter({'mel': 119, 'bcc': 45})\n",
      "Test set class distribution: Counter({'mel': 104, 'bcc': 61})\n"
     ]
    }
   ],
   "source": [
    "from collections import Counter\n",
    "\n",
    "def check_class_distribution(data_loader):\n",
    "    label_counter = Counter()\n",
    "    for _, labels, _ in data_loader:\n",
    "        label_counter.update(labels)\n",
    "    return label_counter\n",
    "\n",
    "# Use check_class_distribution on your training_data and validation_data\n",
    "train_class_dist = check_class_distribution(training_data)\n",
    "val_class_dist = check_class_distribution(validation_data)\n",
    "test_class_dist = check_class_distribution(test_data)\n",
    "\n",
    "print(\"Training set class distribution:\", train_class_dist)\n",
    "print(\"Validation set class distribution:\", val_class_dist)\n",
    "print(\"Test set class distribution:\", test_class_dist)\n"
   ]
  },
  {
   "cell_type": "code",
   "execution_count": 11,
   "metadata": {},
   "outputs": [
    {
     "name": "stderr",
     "output_type": "stream",
     "text": [
      "/sw/pkgs/arc/python3.9-anaconda/2021.11/lib/python3.9/site-packages/seaborn/_decorators.py:36: FutureWarning: Pass the following variables as keyword args: x, y. From version 0.12, the only valid positional argument will be `data`, and passing other arguments without an explicit keyword will result in an error or misinterpretation.\n",
      "  warnings.warn(\n",
      "/sw/pkgs/arc/python3.9-anaconda/2021.11/lib/python3.9/site-packages/seaborn/_decorators.py:36: FutureWarning: Pass the following variables as keyword args: x, y. From version 0.12, the only valid positional argument will be `data`, and passing other arguments without an explicit keyword will result in an error or misinterpretation.\n",
      "  warnings.warn(\n"
     ]
    },
    {
     "data": {
      "image/png": "[encoded data removed]",
      "text/plain": [
       "<Figure size 720x360 with 1 Axes>"
      ]
     },
     "metadata": {
      "needs_background": "light"
     },
     "output_type": "display_data"
    }
   ],
   "source": [
    "plt.figure(figsize=(10, 5))\n",
    "sns.lineplot(range(1, num_epochs + 1), training_accuracies, marker='o', label='Training Accuracy')\n",
    "sns.lineplot(range(1, num_epochs + 1), validation_accuracies, marker='o', label='Validation Accuracy')\n",
    "plt.title('Training and Validation Accuracies of Model 2 Without Residual Connection')\n",
    "plt.xlabel('Epoch')\n",
    "plt.ylabel('Accuracy (%)')\n",
    "plt.legend()\n",
    "plt.savefig('train_valid_acc_model_2_no_residual.png')\n",
    "plt.show()\n",
    "\n",
    "# plt.figure(figsize=(10, 5))\n",
    "# sns.lineplot(range(1, num_epochs + 1), validation_accuracies, marker='o', label='Validation Accuracy')\n",
    "# plt.title('Validation Accuracy of Model 2 Without Residual Connection')\n",
    "\n",
    "# plt.xlabel('Epoch')\n",
    "# plt.ylabel('Accuracy (%)')\n",
    "# plt.legend()\n",
    "# plt.savefig('valid_acc_model_2.png')\n",
    "# plt.show()\n"
   ]
  },
  {
   "cell_type": "markdown",
   "metadata": {},
   "source": [
    "# Evaluate on test set"
   ]
  },
  {
   "cell_type": "code",
   "execution_count": 14,
   "metadata": {},
   "outputs": [
    {
     "name": "stderr",
     "output_type": "stream",
     "text": [
      "100%|██████████| 2/2 [00:02<00:00,  1.04s/it]"
     ]
    },
    {
     "name": "stdout",
     "output_type": "stream",
     "text": [
      "Test Accuracy: 87.27%\n"
     ]
    },
    {
     "name": "stderr",
     "output_type": "stream",
     "text": [
      "\n"
     ]
    }
   ],
   "source": [
    "model.eval()\n",
    "test_correct = 0\n",
    "test_total = 0\n",
    "\n",
    "with torch.no_grad():\n",
    "    for batch in tqdm(test_data):\n",
    "        _, labels, images = batch\n",
    "        images = images.to(device)\n",
    "        num_labels = torch.tensor([1 if label == 'mel' else 0 for label in labels], dtype=torch.float32).to(device).unsqueeze(1)\n",
    "\n",
    "        outputs = model(images)\n",
    "        predicted = torch.round(torch.sigmoid(outputs))\n",
    "        test_total += num_labels.size(0)\n",
    "        test_correct += (predicted == num_labels).sum().item()\n",
    "\n",
    "test_accuracy = 100 * test_correct / test_total\n",
    "\n",
    "# Print accuracies for the epoch\n",
    "print(f'Test Accuracy: {test_accuracy:.2f}%')\n"
   ]
  },
  {
   "cell_type": "markdown",
   "metadata": {},
   "source": [
    "# With preprocessing:"
   ]
  },
  {
   "cell_type": "markdown",
   "metadata": {},
   "source": [
    "# With residual:"
   ]
  },
  {
   "cell_type": "code",
   "execution_count": null,
   "metadata": {},
   "outputs": [],
   "source": [
    "model = model_2_with_residual().to(device)\n",
    "criterion = nn.BCEWithLogitsLoss()\n",
    "optimizer = torch.optim.Adam(model.parameters(), lr=0.001)\n",
    "num_epochs = 10\n",
    "\n",
    "# Lists for tracking accuracy\n",
    "training_accuracies = []\n",
    "validation_accuracies = []\n",
    "\n",
    "# Training loop\n",
    "for epoch in range(num_epochs):\n",
    "    # Training phase\n",
    "    model.train()\n",
    "    train_correct = 0\n",
    "    train_total = 0\n",
    "\n",
    "    for batch in tqdm(training_data, desc='Training Epoch {}'.format(epoch+1)):\n",
    "        _, labels, images = batch\n",
    "        images = images.to(device)\n",
    "        # Convert labels to a tensor of 0s and 1s\n",
    "        num_labels = torch.tensor([1 if label == 'mel' else 0 for label in labels], dtype=torch.float32).to(device).unsqueeze(1)\n",
    "        \n",
    "        optimizer.zero_grad()\n",
    "        \n",
    "        outputs = model(images)\n",
    "        loss = criterion(outputs, num_labels)\n",
    "        loss.backward()\n",
    "        optimizer.step()\n",
    "        \n",
    "        predicted = torch.round(torch.sigmoid(outputs))\n",
    "        train_total += num_labels.size(0)\n",
    "        train_correct += (predicted == num_labels).sum().item()\n",
    "\n",
    "    train_accuracy = 100 * train_correct / train_total\n",
    "    training_accuracies.append(train_accuracy)\n",
    "    \n",
    "    # Validation phase\n",
    "    model.eval()\n",
    "    valid_correct = 0\n",
    "    valid_total = 0\n",
    "    \n",
    "    with torch.no_grad():\n",
    "        for batch in tqdm(validation_data, desc='Validation Epoch {}'.format(epoch+1)):\n",
    "            _, labels, images = batch\n",
    "            images = images.to(device)\n",
    "            num_labels = torch.tensor([1 if label == 'mel' else 0 for label in labels], dtype=torch.float32).to(device).unsqueeze(1)\n",
    "            \n",
    "            outputs = model(images)\n",
    "            predicted = torch.round(torch.sigmoid(outputs))\n",
    "            valid_total += num_labels.size(0)\n",
    "            valid_correct += (predicted == num_labels).sum().item()\n",
    "\n",
    "    valid_accuracy = 100 * valid_correct / valid_total\n",
    "    validation_accuracies.append(valid_accuracy)\n",
    "    \n",
    "    # Print accuracies for the epoch\n",
    "    print(f'Epoch [{epoch+1}/{num_epochs}], Train Accuracy: {train_accuracy:.2f}%, Validation Accuracy: {valid_accuracy:.2f}%')\n",
    "\n"
   ]
  },
  {
   "cell_type": "code",
   "execution_count": null,
   "metadata": {},
   "outputs": [],
   "source": [
    "# Plotting the training and validation accuracies\n",
    "\n",
    "plt.figure(figsize=(10, 5))\n",
    "sns.lineplot(range(1, num_epochs + 1), training_accuracies, marker='o', label='Training Accuracy')\n",
    "sns.lineplot(range(1, num_epochs + 1), validation_accuracies, marker='o', label='Validation Accuracy')\n",
    "plt.title('Training and Validation Accuracies of Model 2 With Residual Connection')\n",
    "plt.xlabel('Epoch')\n",
    "plt.ylabel('Accuracy (%)')\n",
    "plt.legend()\n",
    "plt.savefig('train_valid_acc_model_2_residual.png')\n",
    "plt.show()\n"
   ]
  },
  {
   "cell_type": "code",
   "execution_count": null,
   "metadata": {},
   "outputs": [],
   "source": []
  },
  {
   "cell_type": "code",
   "execution_count": null,
   "metadata": {},
   "outputs": [],
   "source": []
  },
  {
   "cell_type": "code",
   "execution_count": null,
   "metadata": {},
   "outputs": [],
   "source": []
  },
  {
   "cell_type": "code",
   "execution_count": null,
   "metadata": {},
   "outputs": [],
   "source": []
  },
  {
   "cell_type": "code",
   "execution_count": null,
   "metadata": {},
   "outputs": [],
   "source": []
  },
  {
   "cell_type": "markdown",
   "metadata": {
    "id": "K2bNXaP-7lKJ"
   },
   "source": [
    "# **The third model:**\n",
    "\n",
    "*   Used if the first model outputs non-cancerous\n",
    "*   Classifies which non-cancerous skin lesion\n",
    "\n",
    "We can test on existing models and our own and contrast ????\n",
    "Break data down into:\n",
    "- 80% training\n",
    "- 10% validation\n",
    "- 10% testing\n",
    "\n",
    "Small dataset\n",
    "\n",
    "Hyper-parameters (To be Tuned):\n",
    "- Batch Size: 32\n",
    "- Learning Rate: 1e-4\n",
    "- Decay Factor / L2 Reg: 0.0001\n",
    "- Optimizer: Adam (momentum for GD)\n",
    "- Epochs: 20\n",
    "\n",
    "Architecture:\n",
    "1. Pre-process images:\n",
    "    - rescale to 224x224x3\n",
    "    - normalize to center around 0 (divide each pixel by 255)\n",
    "    - smooth it out\n",
    "\n",
    "2. Input Image: 224x224x3\n",
    "\n",
    "3. Convolutional blocks: (5 of them)\n",
    "  - Block 1:  \n",
    "    - filters=560, kernel_size=(3, 3), activation='relu', padding='same' - activation and kernel size are subject to change\n",
    "    - BatchNormalization(),\n",
    "    - MaxPooling2D(pool_size=(2, 2)) - subject to change\n",
    "    - Dropout(0.1) - dropout rate is subject to change\n",
    "    \n",
    "  - Block 2:\n",
    "    - filters=280, kernel_size=(3, 3), activation='relu', padding='same' - activation and kernel size are subject to change\n",
    "    - BatchNormalization(),\n",
    "    - MaxPooling2D(pool_size=(2, 2)),\n",
    "    - Dropout(0.25) - dropout rate is subject to change\n",
    "\n",
    "  - Block 3:\n",
    "    - Conv2D(filters=140, kernel_size=(3, 3), activation='relu', padding='same'),\n",
    "    - BatchNormalization(),\n",
    "    - MaxPooling2D(pool_size=(2, 2)),\n",
    "    - Dropout(0.25),\n",
    "  - Block 4:\n",
    "    - Conv2D(filters=70, kernel_size=(3, 3), activation='relu', padding='same'),\n",
    "    - BatchNormalization(),\n",
    "    - MaxPooling2D(pool_size=(2, 2)),\n",
    "    - Dropout(0.25),\n",
    "  - Block 5:\n",
    "    - Conv2D(filters=35, kernel_size=(3, 3), activation='relu', padding='same'),\n",
    "    - BatchNormalization(),\n",
    "    - MaxPooling2D(pool_size=(2, 2)),\n",
    "    - Dropout(0.25),\n",
    "\n",
    "3. Fully connected layer (after flatten the output from convolutional layer):\n",
    "  - Dense(256, activation='relu'),\n",
    "  - Dropout(0.2)\n",
    "\n",
    "4. Output:\n",
    "  - Dense(num_classes, activation='softmax')\n",
    "\n",
    "Things to calculate:\n",
    "- Accuracy: TP + TN / TP + TN + FP + FN\n",
    "- Recall: TP / TP + TN\n",
    "- Precision: TP / TP + FP\n"
   ]
  },
  {
   "cell_type": "markdown",
   "metadata": {
    "id": "edPwQKPjNSEh"
   },
   "source": [
    "## Set Up Hyperparameters"
   ]
  },
  {
   "cell_type": "code",
   "execution_count": null,
   "metadata": {
    "id": "O0q4dsVhNVU2"
   },
   "outputs": [],
   "source": [
    "# Tunable Parameters:\n",
    "batch_size = 512\n",
    "learning_rate, weight_decay, num_epochs = 0.01, 0.0001, 3"
   ]
  },
  {
   "cell_type": "markdown",
   "metadata": {
    "id": "5B7wswlNNKso"
   },
   "source": [
    "##Load Data"
   ]
  },
  {
   "cell_type": "code",
   "execution_count": null,
   "metadata": {
    "id": "yLUGtGItNMvZ"
   },
   "outputs": [],
   "source": [
    "from torch.utils.data import DataLoader\n",
    "shuffle = True\n",
    "\n",
    "training = ImageData(preprocess=Preprocess, dataset_type='non_cancerous', training_type='training')\n",
    "training_data = DataLoader(dataset=training, batch_size=batch_size, shuffle=shuffle)\n",
    "\n",
    "validation = ImageData(preprocess=Preprocess, dataset_type='non_cancerous', training_type='validation')\n",
    "validation_data = DataLoader(dataset=validation, batch_size=batch_size, shuffle=shuffle)\n",
    "\n",
    "test = ImageData(preprocess=Preprocess, dataset_type='non_cancerous', training_type='test')\n",
    "test_data = DataLoader(dataset=test, batch_size=batch_size, shuffle=shuffle)\n",
    "\n",
    "nc_labels = ['akiec', 'bkl', 'df', 'nv', 'vasc']\n"
   ]
  },
  {
   "cell_type": "markdown",
   "metadata": {
    "id": "eANv6_7FAg6x"
   },
   "source": [
    "## Model 3 without Residual Connection"
   ]
  },
  {
   "cell_type": "code",
   "execution_count": null,
   "metadata": {
    "id": "Vo5OM_SV21WU"
   },
   "outputs": [],
   "source": [
    "# import torch.nn as nn\n",
    "import torch.nn.functional as F\n",
    "\n",
    "class model3(nn.Module):\n",
    "    def __init__(self):\n",
    "        super(model3, self).__init__()\n",
    "\n",
    "        self.block1 = nn.Sequential(\n",
    "            nn.Conv2d(3, 32, 3, padding=1),\n",
    "            nn.BatchNorm2d(32),\n",
    "            nn.ReLU(),\n",
    "            nn.MaxPool2d(2),\n",
    "            nn.Dropout(0.2)\n",
    "        )\n",
    "\n",
    "        # should be  32x112x112\n",
    "\n",
    "        self.block2 = nn.Sequential(\n",
    "            nn.Conv2d(32, 64, 3, padding=1),\n",
    "            nn.BatchNorm2d(64),\n",
    "            nn.ReLU(),\n",
    "            nn.MaxPool2d(kernel_size=2, stride=2),\n",
    "            nn.Dropout(0.2)\n",
    "        )\n",
    "\n",
    "        # should be 64x56x56\n",
    "        self.block3 = nn.Sequential(\n",
    "            nn.Conv2d(64, 128, kernel_size=3, padding=1),\n",
    "            nn.BatchNorm2d(128),\n",
    "            nn.ReLU(),\n",
    "            nn.MaxPool2d(kernel_size=2, stride=2),\n",
    "            nn.Dropout2d(0.2)\n",
    "        )\n",
    "\n",
    "        # 128x28x28\n",
    "\n",
    "        self.fc = nn.Sequential(\n",
    "            nn.Linear(1152, 256), #18432\n",
    "            nn.ReLU(),\n",
    "            nn.Dropout(0.2),\n",
    "            nn.Linear(256, 5)\n",
    "        )\n",
    "\n",
    "    def forward(self, x):\n",
    "        x = self.block1(x)\n",
    "        x = self.block2(x)\n",
    "        x = self.block3(x)\n",
    "        # x = self.block4(x)\n",
    "        # x = self.block5(x)\n",
    "\n",
    "        x = x.view(x.size(0), -1)\n",
    "        # print(x.shape)\n",
    "        x = self.fc(x)\n",
    "        return F.softmax(x, dim=1)\n"
   ]
  },
  {
   "cell_type": "markdown",
   "metadata": {
    "id": "3wbibS9o_BT3"
   },
   "source": [
    "# Model 3 with residual connection:"
   ]
  },
  {
   "cell_type": "code",
   "execution_count": null,
   "metadata": {
    "id": "Cz_0JPBa_Eps"
   },
   "outputs": [],
   "source": [
    "class ResidualBlock_model3(nn.Module):\n",
    "    def __init__(self, in_channels, out_channels, stride=1, downsample=None):\n",
    "        super(ResidualBlock_model3, self).__init__()\n",
    "        self.conv1 = nn.Conv2d(in_channels, out_channels, kernel_size=3,\n",
    "                               stride=stride, padding=1, bias=False)\n",
    "        self.bn1 = nn.BatchNorm2d(out_channels)\n",
    "        self.relu = nn.ReLU(inplace=True)\n",
    "        self.conv2 = nn.Conv2d(out_channels, out_channels, kernel_size=3,\n",
    "                               padding=1, bias=False)\n",
    "        self.bn2 = nn.BatchNorm2d(out_channels)\n",
    "        self.downsample = downsample\n",
    "\n",
    "    def forward(self, x):\n",
    "        residual = x\n",
    "        out = self.conv1(x)\n",
    "        out = self.bn1(out)\n",
    "        out = self.relu(out)\n",
    "        out = self.conv2(out)\n",
    "        out = self.bn2(out)\n",
    "\n",
    "        if self.downsample is not None:\n",
    "            residual = self.downsample(x)\n",
    "\n",
    "        out += residual\n",
    "        out = self.relu(out)\n",
    "        return out\n",
    "\n",
    "class model3_residual(nn.Module):\n",
    "    def __init__(self):\n",
    "        super(model3_residual, self).__init__()\n",
    "        self.block1 = nn.Sequential(\n",
    "            nn.Conv2d(3, 32, 3, padding=1),\n",
    "            nn.BatchNorm2d(32),\n",
    "            nn.ReLU(),\n",
    "            nn.MaxPool2d(2),\n",
    "            nn.Dropout(0.2)\n",
    "        )\n",
    "\n",
    "        # should be  32x112x112\n",
    "\n",
    "        self.block2 = nn.Sequential(\n",
    "            nn.Conv2d(32, 64, 3, padding=1),\n",
    "            nn.BatchNorm2d(64),\n",
    "            nn.ReLU(),\n",
    "            nn.MaxPool2d(kernel_size=2, stride=2),\n",
    "            nn.Dropout(0.2)\n",
    "        )\n",
    "\n",
    "        self.downsample = nn.Sequential(\n",
    "            nn.Conv2d(64, 128, 1, stride=2, bias=False),\n",
    "            nn.BatchNorm2d(128)\n",
    "        )\n",
    "        self.residual_block = ResidualBlock_model3(64, 128, stride=2, downsample=self.downsample)\n",
    "\n",
    "        # Assuming block3 remains the same as before\n",
    "        self.block3 = nn.Sequential(\n",
    "          nn.Conv2d(128, 128, kernel_size=3, padding=1),\n",
    "          nn.BatchNorm2d(128),\n",
    "          nn.ReLU(),\n",
    "          nn.MaxPool2d(kernel_size=2, stride=2),\n",
    "          nn.Dropout(0.2)\n",
    "      )\n",
    "\n",
    "        self.fc = nn.Sequential(\n",
    "            nn.Linear(512, 256),\n",
    "            nn.ReLU(),\n",
    "            nn.Dropout(0.2),\n",
    "            nn.Linear(256, 5)\n",
    "        )\n",
    "\n",
    "    def forward(self, x):\n",
    "        x = self.block1(x)\n",
    "        x = self.block2(x)\n",
    "        x = self.residual_block(x)\n",
    "        x = self.block3(x)\n",
    "\n",
    "        x = x.view(x.size(0), -1)\n",
    "        print(x.size())\n",
    "        x = self.fc(x)\n",
    "        return x"
   ]
  },
  {
   "cell_type": "markdown",
   "metadata": {
    "id": "GYRhkPLxeYav"
   },
   "source": [
    "\n",
    "# Evaluate function\n",
    "\n",
    "\n"
   ]
  },
  {
   "cell_type": "code",
   "execution_count": null,
   "metadata": {
    "id": "0pgMKO-eya6A"
   },
   "outputs": [],
   "source": [
    "# def evaluate(model, loader):  # Evaluate accuracy on validation set\n",
    "#     print(len(loader.dataset))\n",
    "#     model.eval()  # Set the model to evaluation mode\n",
    "#     correct = 0\n",
    "#     with torch.no_grad():\n",
    "#         for batch in tqdm(loader):\n",
    "#             _, labels, images = batch\n",
    "#             # batch = batch.to(device)\n",
    "#             # label = label.to(device)\n",
    "#             pred = model(images)\n",
    "#             # print(labels)\n",
    "#             # label = labels[0]\n",
    "#             for label, prediction in zip(labels, pred):\n",
    "#               correct += (nc_labels[torch.argmax(prediction)] == label)\n",
    "#         acc = correct/len(loader.dataset)\n",
    "#         print(\"\\n Evaluation accuracy: {}\".format(acc))\n",
    "#         return acc\n"
   ]
  },
  {
   "cell_type": "markdown",
   "metadata": {
    "id": "nveS0At2_ltC"
   },
   "source": [
    "# Train model 3 without residual connection:"
   ]
  },
  {
   "cell_type": "code",
   "execution_count": null,
   "metadata": {
    "colab": {
     "base_uri": "https://localhost:8080/"
    },
    "id": "xw8DWf4meX8s",
    "outputId": "788a0bf3-0415-4c94-9ae5-09fb90f88071"
   },
   "outputs": [
    {
     "name": "stdout",
     "output_type": "stream",
     "text": [
      "Start training...\n",
      "-----------------Epoch = 1-----------------\n"
     ]
    },
    {
     "name": "stderr",
     "output_type": "stream",
     "text": [
      "100%|██████████| 14/14 [01:25<00:00,  6.11s/it]\n"
     ]
    },
    {
     "name": "stdout",
     "output_type": "stream",
     "text": [
      "\n",
      " Epoch 1 loss:1.1377, Accuracy: 75.53%\n",
      "\n",
      " Evaluate on validation set...\n"
     ]
    },
    {
     "name": "stderr",
     "output_type": "stream",
     "text": [
      "100%|██████████| 2/2 [00:10<00:00,  5.32s/it]\n"
     ]
    },
    {
     "name": "stdout",
     "output_type": "stream",
     "text": [
      "Validation Loss: 1.1011, Validation Accuracy: 80.79%\n",
      "Done!\n",
      "-----------------Epoch = 2-----------------\n"
     ]
    },
    {
     "name": "stderr",
     "output_type": "stream",
     "text": [
      "100%|██████████| 14/14 [01:24<00:00,  6.06s/it]\n"
     ]
    },
    {
     "name": "stdout",
     "output_type": "stream",
     "text": [
      "\n",
      " Epoch 2 loss:1.1039, Accuracy: 80.03%\n",
      "\n",
      " Evaluate on validation set...\n"
     ]
    },
    {
     "name": "stderr",
     "output_type": "stream",
     "text": [
      "100%|██████████| 2/2 [00:10<00:00,  5.07s/it]\n"
     ]
    },
    {
     "name": "stdout",
     "output_type": "stream",
     "text": [
      "Validation Loss: 1.0955, Validation Accuracy: 80.79%\n",
      "Done!\n",
      "-----------------Epoch = 3-----------------\n"
     ]
    },
    {
     "name": "stderr",
     "output_type": "stream",
     "text": [
      "100%|██████████| 14/14 [01:24<00:00,  6.02s/it]\n"
     ]
    },
    {
     "name": "stdout",
     "output_type": "stream",
     "text": [
      "\n",
      " Epoch 3 loss:1.1026, Accuracy: 80.03%\n",
      "\n",
      " Evaluate on validation set...\n"
     ]
    },
    {
     "name": "stderr",
     "output_type": "stream",
     "text": [
      "100%|██████████| 2/2 [00:09<00:00,  4.95s/it]"
     ]
    },
    {
     "name": "stdout",
     "output_type": "stream",
     "text": [
      "Validation Loss: 1.0916, Validation Accuracy: 80.79%\n",
      "Done!\n"
     ]
    },
    {
     "name": "stderr",
     "output_type": "stream",
     "text": [
      "\n"
     ]
    }
   ],
   "source": [
    "# Train:\n",
    "print(\"Start training...\")\n",
    "criterion = nn.CrossEntropyLoss()\n",
    "model = model3().to(device)\n",
    "optimizer = torch.optim.Adam(model.parameters(), lr=learning_rate, weight_decay=weight_decay)\n",
    "\n",
    "trn_loss_hist = []\n",
    "trn_acc_hist = []\n",
    "val_loss_hist = []  # Initialize validation loss history\n",
    "val_acc_hist = []\n",
    "\n",
    "for epoch in range(num_epochs):\n",
    "    model.train()\n",
    "    running_loss = []\n",
    "    total_correct = 0  # Initialize total correct predictions\n",
    "    total_samples = 0  # Initialize total samples\n",
    "\n",
    "    print('-----------------Epoch = %d-----------------' % (epoch+1))\n",
    "\n",
    "    for batch in tqdm(training_data):\n",
    "        _, labels, images = batch\n",
    "        optimizer.zero_grad()\n",
    "        pred = model(images)\n",
    "\n",
    "        label_index = [nc_labels.index(label) for label in labels]  # Convert labels to indices\n",
    "        label_tensor = torch.tensor(label_index, dtype=torch.long).to(device)\n",
    "        loss = criterion(pred, label_tensor)\n",
    "\n",
    "        running_loss.append(loss.item())\n",
    "        loss.backward()\n",
    "        optimizer.step()\n",
    "\n",
    "        # Calculate accuracy\n",
    "        _, predicted = torch.max(pred, 1)\n",
    "        total_correct += (predicted == label_tensor).sum().item()\n",
    "        total_samples += label_tensor.size(0)\n",
    "\n",
    "    # Calculate average training loss for the epoch\n",
    "    epoch_loss = np.mean(running_loss)\n",
    "    trn_loss_hist.append(epoch_loss)\n",
    "\n",
    "    # Calculate accuracy for the epoch\n",
    "    epoch_acc = 100 * total_correct / total_samples\n",
    "    trn_acc_hist.append(epoch_acc)\n",
    "\n",
    "    # Print epoch statistics\n",
    "    print(\"\\n Epoch {} loss:{:.4f}, Accuracy: {:.2f}%\".format(epoch+1, epoch_loss, epoch_acc))\n",
    "\n",
    "    # Validation phase (similar to the previous example)\n",
    "    print(\"\\n Evaluate on validation set...\")\n",
    "    val_loss = 0.0  # Initialize validation loss accumulator\n",
    "    val_correct = 0\n",
    "    val_total = 0\n",
    "    with torch.no_grad():\n",
    "        for batch in tqdm(validation_data):\n",
    "            _, labels, images = batch\n",
    "            images = images.to(device)\n",
    "            label_indices = [nc_labels.index(label) for label in labels]\n",
    "            label_tensor = torch.tensor(label_indices, dtype=torch.long).to(device)\n",
    "            outputs = model(images)\n",
    "            loss = criterion(outputs, label_tensor)\n",
    "            val_loss += loss.item()  # Accumulate validation loss\n",
    "\n",
    "            # Calculate accuracy\n",
    "            _, predicted = torch.max(outputs, 1)\n",
    "            val_total += label_tensor.size(0)\n",
    "            val_correct += (predicted == label_tensor).sum().item()\n",
    "\n",
    "    val_loss /= len(validation_data)  # Calculate average validation loss\n",
    "    val_loss_hist.append(val_loss)  # Store average validation loss\n",
    "    val_acc = 100 * val_correct / val_total\n",
    "    val_acc_hist.append(val_acc)\n",
    "\n",
    "    # Print validation statistics\n",
    "    print(f'Validation Loss: {val_loss:.4f}, Validation Accuracy: {val_acc:.2f}%')\n",
    "    print(\"Done!\")\n"
   ]
  },
  {
   "cell_type": "markdown",
   "metadata": {
    "id": "TOYVMxCgn-bO"
   },
   "source": [
    "## PLOT"
   ]
  },
  {
   "cell_type": "code",
   "execution_count": null,
   "metadata": {
    "colab": {
     "base_uri": "https://localhost:8080/",
     "height": 507
    },
    "id": "UbyZKEIUn8xc",
    "outputId": "46d04514-0f52-455f-b80f-79d241500b67"
   },
   "outputs": [
    {
     "data": {
      "image/png": "[encoded data removed]",
      "text/plain": [
       "<Figure size 1000x500 with 2 Axes>"
      ]
     },
     "metadata": {},
     "output_type": "display_data"
    }
   ],
   "source": [
    "# Plotting\n",
    "plt.figure(figsize=(10, 5))\n",
    "\n",
    "# Plot validation loss\n",
    "plt.subplot(1, 2, 1)\n",
    "plt.plot(range(1, num_epochs + 1), val_loss_hist, label='Validation')\n",
    "plt.xlabel('Epoch')\n",
    "plt.ylabel('Loss')\n",
    "plt.legend()\n",
    "plt.title('Cross-Entropy Loss (Validation)')\n",
    "\n",
    "# Plot training and validation accuracy\n",
    "plt.subplot(1, 2, 2)\n",
    "plt.plot(range(1, num_epochs + 1), trn_acc_hist, label='Training')\n",
    "plt.plot(range(1, num_epochs + 1), val_acc_hist, label='Validation')\n",
    "plt.xlabel('Epoch')\n",
    "plt.ylabel('Accuracy (%)')\n",
    "plt.legend()\n",
    "plt.title('Accuracy')\n",
    "plt.ylim(70, 85)\n",
    "\n",
    "plt.tight_layout()\n",
    "plt.show()\n"
   ]
  },
  {
   "cell_type": "markdown",
   "metadata": {
    "id": "mf1ztWGn_vg6"
   },
   "source": [
    "# Train model 3 with residual connection:"
   ]
  },
  {
   "cell_type": "code",
   "execution_count": null,
   "metadata": {
    "colab": {
     "base_uri": "https://localhost:8080/"
    },
    "id": "hrFRijOn_ySR",
    "outputId": "889c517d-d059-4bba-a20c-08088ee45d47"
   },
   "outputs": [
    {
     "name": "stderr",
     "output_type": "stream",
     "text": [
      " 14%|█▍        | 1/7 [00:14<01:24, 14.00s/it]"
     ]
    },
    {
     "name": "stdout",
     "output_type": "stream",
     "text": [
      "torch.Size([1024, 512])\n",
      "[Epoch 1, Minibatch     1] loss: 0.2505\n"
     ]
    },
    {
     "name": "stderr",
     "output_type": "stream",
     "text": [
      " 29%|██▊       | 2/7 [00:27<01:08, 13.63s/it]"
     ]
    },
    {
     "name": "stdout",
     "output_type": "stream",
     "text": [
      "torch.Size([1024, 512])\n"
     ]
    },
    {
     "name": "stderr",
     "output_type": "stream",
     "text": [
      " 43%|████▎     | 3/7 [00:41<00:54, 13.69s/it]"
     ]
    },
    {
     "name": "stdout",
     "output_type": "stream",
     "text": [
      "torch.Size([1024, 512])\n"
     ]
    },
    {
     "name": "stderr",
     "output_type": "stream",
     "text": [
      " 57%|█████▋    | 4/7 [00:54<00:40, 13.48s/it]"
     ]
    },
    {
     "name": "stdout",
     "output_type": "stream",
     "text": [
      "torch.Size([1024, 512])\n"
     ]
    },
    {
     "name": "stderr",
     "output_type": "stream",
     "text": [
      " 71%|███████▏  | 5/7 [01:07<00:26, 13.43s/it]"
     ]
    },
    {
     "name": "stdout",
     "output_type": "stream",
     "text": [
      "torch.Size([1024, 512])\n"
     ]
    },
    {
     "name": "stderr",
     "output_type": "stream",
     "text": [
      " 86%|████████▌ | 6/7 [01:20<00:13, 13.37s/it]"
     ]
    },
    {
     "name": "stdout",
     "output_type": "stream",
     "text": [
      "torch.Size([1024, 512])\n",
      "[Epoch 1, Minibatch     6] loss: 0.8402\n"
     ]
    },
    {
     "name": "stderr",
     "output_type": "stream",
     "text": [
      "100%|██████████| 7/7 [01:28<00:00, 12.68s/it]\n"
     ]
    },
    {
     "name": "stdout",
     "output_type": "stream",
     "text": [
      "torch.Size([565, 512])\n",
      "Epoch [1/3], Loss: 0.0670\n"
     ]
    },
    {
     "name": "stderr",
     "output_type": "stream",
     "text": [
      " 14%|█▍        | 1/7 [00:14<01:24, 14.09s/it]"
     ]
    },
    {
     "name": "stdout",
     "output_type": "stream",
     "text": [
      "torch.Size([1024, 512])\n",
      "[Epoch 2, Minibatch     1] loss: 0.1402\n"
     ]
    },
    {
     "name": "stderr",
     "output_type": "stream",
     "text": [
      " 29%|██▊       | 2/7 [00:27<01:07, 13.54s/it]"
     ]
    },
    {
     "name": "stdout",
     "output_type": "stream",
     "text": [
      "torch.Size([1024, 512])\n"
     ]
    },
    {
     "name": "stderr",
     "output_type": "stream",
     "text": [
      " 43%|████▎     | 3/7 [00:40<00:54, 13.51s/it]"
     ]
    },
    {
     "name": "stdout",
     "output_type": "stream",
     "text": [
      "torch.Size([1024, 512])\n"
     ]
    },
    {
     "name": "stderr",
     "output_type": "stream",
     "text": [
      " 57%|█████▋    | 4/7 [00:54<00:41, 13.70s/it]"
     ]
    },
    {
     "name": "stdout",
     "output_type": "stream",
     "text": [
      "torch.Size([1024, 512])\n"
     ]
    },
    {
     "name": "stderr",
     "output_type": "stream",
     "text": [
      " 71%|███████▏  | 5/7 [01:08<00:27, 13.61s/it]"
     ]
    },
    {
     "name": "stdout",
     "output_type": "stream",
     "text": [
      "torch.Size([1024, 512])\n"
     ]
    },
    {
     "name": "stderr",
     "output_type": "stream",
     "text": [
      " 86%|████████▌ | 6/7 [01:21<00:13, 13.53s/it]"
     ]
    },
    {
     "name": "stdout",
     "output_type": "stream",
     "text": [
      "torch.Size([1024, 512])\n",
      "[Epoch 2, Minibatch     6] loss: 0.6614\n"
     ]
    },
    {
     "name": "stderr",
     "output_type": "stream",
     "text": [
      "100%|██████████| 7/7 [01:28<00:00, 12.64s/it]\n"
     ]
    },
    {
     "name": "stdout",
     "output_type": "stream",
     "text": [
      "torch.Size([565, 512])\n",
      "Epoch [2/3], Loss: 0.0577\n"
     ]
    },
    {
     "name": "stderr",
     "output_type": "stream",
     "text": [
      " 14%|█▍        | 1/7 [00:13<01:18, 13.14s/it]"
     ]
    },
    {
     "name": "stdout",
     "output_type": "stream",
     "text": [
      "torch.Size([1024, 512])\n",
      "[Epoch 3, Minibatch     1] loss: 0.1238\n"
     ]
    },
    {
     "name": "stderr",
     "output_type": "stream",
     "text": [
      " 29%|██▊       | 2/7 [00:27<01:10, 14.02s/it]"
     ]
    },
    {
     "name": "stdout",
     "output_type": "stream",
     "text": [
      "torch.Size([1024, 512])\n"
     ]
    },
    {
     "name": "stderr",
     "output_type": "stream",
     "text": [
      " 43%|████▎     | 3/7 [00:40<00:54, 13.58s/it]"
     ]
    },
    {
     "name": "stdout",
     "output_type": "stream",
     "text": [
      "torch.Size([1024, 512])\n"
     ]
    },
    {
     "name": "stderr",
     "output_type": "stream",
     "text": [
      " 57%|█████▋    | 4/7 [00:54<00:40, 13.43s/it]"
     ]
    },
    {
     "name": "stdout",
     "output_type": "stream",
     "text": [
      "torch.Size([1024, 512])\n"
     ]
    },
    {
     "name": "stderr",
     "output_type": "stream",
     "text": [
      " 71%|███████▏  | 5/7 [01:08<00:27, 13.70s/it]"
     ]
    },
    {
     "name": "stdout",
     "output_type": "stream",
     "text": [
      "torch.Size([1024, 512])\n"
     ]
    },
    {
     "name": "stderr",
     "output_type": "stream",
     "text": [
      " 86%|████████▌ | 6/7 [01:21<00:13, 13.46s/it]"
     ]
    },
    {
     "name": "stdout",
     "output_type": "stream",
     "text": [
      "torch.Size([1024, 512])\n",
      "[Epoch 3, Minibatch     6] loss: 0.6012\n"
     ]
    },
    {
     "name": "stderr",
     "output_type": "stream",
     "text": [
      "100%|██████████| 7/7 [01:28<00:00, 12.68s/it]"
     ]
    },
    {
     "name": "stdout",
     "output_type": "stream",
     "text": [
      "torch.Size([565, 512])\n",
      "Epoch [3/3], Loss: 0.0550\n"
     ]
    },
    {
     "name": "stderr",
     "output_type": "stream",
     "text": [
      "\n"
     ]
    }
   ],
   "source": [
    "# model3_residual = model3_residual().to(device)\n",
    "\n",
    "# criterion = nn.CrossEntropyLoss()\n",
    "# optimizer = torch.optim.Adam(model.parameters(), lr=learning_rate, weight_decay=weight_decay)\n",
    "\n",
    "# # Train:\n",
    "# for epoch in range(num_epochs):\n",
    "#     model3_residual.train()\n",
    "#     running_loss = 0.0\n",
    "#     for i, batch in enumerate(tqdm(training_data)):\n",
    "#         _, labels, images = batch\n",
    "#         images = images.to(device)\n",
    "\n",
    "#         label_indices = [nc_labels.index(label) for label in labels]\n",
    "#         label_tensor = torch.tensor(label_indices, dtype=torch.long).to(device)\n",
    "\n",
    "#         optimizer.zero_grad()\n",
    "\n",
    "#         outputs = model3_residual(images)\n",
    "#         loss = criterion(outputs, label_tensor)\n",
    "#         loss.backward()\n",
    "#         optimizer.step()\n",
    "#         running_loss += loss.item()\n",
    "\n",
    "#         # Print minibatch loss every 5 minibatches\n",
    "#         if i % 5 == 0:\n",
    "#             print('[Epoch %d, Minibatch %5d] loss: %.4f' %\n",
    "#                   (epoch + 1, i + 1, running_loss / 5))\n",
    "#             running_loss = 0.0\n",
    "\n",
    "#     avg_loss = running_loss / len(filtered_training_data)\n",
    "#     print(f'Epoch [{epoch+1}/{num_epochs}], Loss: {avg_loss:.4f}')"
   ]
  },
  {
   "cell_type": "code",
   "execution_count": null,
   "metadata": {
    "colab": {
     "base_uri": "https://localhost:8080/"
    },
    "id": "fgvcEgpKdi4R",
    "outputId": "295ac7f2-2f18-4289-b126-57ae1a420176"
   },
   "outputs": [
    {
     "name": "stderr",
     "output_type": "stream",
     "text": [
      "  7%|▋         | 1/14 [00:06<01:26,  6.69s/it]"
     ]
    },
    {
     "name": "stdout",
     "output_type": "stream",
     "text": [
      "torch.Size([512, 512])\n",
      "[Epoch 1, Minibatch     1] loss: 0.3129\n"
     ]
    },
    {
     "name": "stderr",
     "output_type": "stream",
     "text": [
      " 14%|█▍        | 2/14 [00:13<01:17,  6.50s/it]"
     ]
    },
    {
     "name": "stdout",
     "output_type": "stream",
     "text": [
      "torch.Size([512, 512])\n"
     ]
    },
    {
     "name": "stderr",
     "output_type": "stream",
     "text": [
      " 21%|██▏       | 3/14 [00:19<01:10,  6.44s/it]"
     ]
    },
    {
     "name": "stdout",
     "output_type": "stream",
     "text": [
      "torch.Size([512, 512])\n"
     ]
    },
    {
     "name": "stderr",
     "output_type": "stream",
     "text": [
      " 29%|██▊       | 4/14 [00:26<01:04,  6.50s/it]"
     ]
    },
    {
     "name": "stdout",
     "output_type": "stream",
     "text": [
      "torch.Size([512, 512])\n"
     ]
    },
    {
     "name": "stderr",
     "output_type": "stream",
     "text": [
      " 36%|███▌      | 5/14 [00:32<00:57,  6.38s/it]"
     ]
    },
    {
     "name": "stdout",
     "output_type": "stream",
     "text": [
      "torch.Size([512, 512])\n"
     ]
    },
    {
     "name": "stderr",
     "output_type": "stream",
     "text": [
      " 43%|████▎     | 6/14 [00:38<00:52,  6.50s/it]"
     ]
    },
    {
     "name": "stdout",
     "output_type": "stream",
     "text": [
      "torch.Size([512, 512])\n",
      "[Epoch 1, Minibatch     6] loss: 1.5585\n"
     ]
    },
    {
     "name": "stderr",
     "output_type": "stream",
     "text": [
      " 50%|█████     | 7/14 [00:45<00:44,  6.37s/it]"
     ]
    },
    {
     "name": "stdout",
     "output_type": "stream",
     "text": [
      "torch.Size([512, 512])\n"
     ]
    },
    {
     "name": "stderr",
     "output_type": "stream",
     "text": [
      " 57%|█████▋    | 8/14 [00:51<00:39,  6.55s/it]"
     ]
    },
    {
     "name": "stdout",
     "output_type": "stream",
     "text": [
      "torch.Size([512, 512])\n"
     ]
    },
    {
     "name": "stderr",
     "output_type": "stream",
     "text": [
      " 64%|██████▍   | 9/14 [00:57<00:31,  6.39s/it]"
     ]
    },
    {
     "name": "stdout",
     "output_type": "stream",
     "text": [
      "torch.Size([512, 512])\n"
     ]
    },
    {
     "name": "stderr",
     "output_type": "stream",
     "text": [
      " 71%|███████▏  | 10/14 [01:04<00:26,  6.54s/it]"
     ]
    },
    {
     "name": "stdout",
     "output_type": "stream",
     "text": [
      "torch.Size([512, 512])\n"
     ]
    },
    {
     "name": "stderr",
     "output_type": "stream",
     "text": [
      " 79%|███████▊  | 11/14 [01:10<00:19,  6.40s/it]"
     ]
    },
    {
     "name": "stdout",
     "output_type": "stream",
     "text": [
      "torch.Size([512, 512])\n",
      "[Epoch 1, Minibatch    11] loss: 1.5645\n"
     ]
    },
    {
     "name": "stderr",
     "output_type": "stream",
     "text": [
      " 86%|████████▌ | 12/14 [01:17<00:13,  6.58s/it]"
     ]
    },
    {
     "name": "stdout",
     "output_type": "stream",
     "text": [
      "torch.Size([512, 512])\n"
     ]
    },
    {
     "name": "stderr",
     "output_type": "stream",
     "text": [
      " 93%|█████████▎| 13/14 [01:24<00:06,  6.44s/it]"
     ]
    },
    {
     "name": "stdout",
     "output_type": "stream",
     "text": [
      "torch.Size([512, 512])\n"
     ]
    },
    {
     "name": "stderr",
     "output_type": "stream",
     "text": [
      "100%|██████████| 14/14 [01:24<00:00,  6.06s/it]\n"
     ]
    },
    {
     "name": "stdout",
     "output_type": "stream",
     "text": [
      "torch.Size([53, 512])\n"
     ]
    },
    {
     "name": "stderr",
     "output_type": "stream",
     "text": [
      " 50%|█████     | 1/2 [00:06<00:06,  6.84s/it]"
     ]
    },
    {
     "name": "stdout",
     "output_type": "stream",
     "text": [
      "torch.Size([512, 512])\n"
     ]
    },
    {
     "name": "stderr",
     "output_type": "stream",
     "text": [
      "100%|██████████| 2/2 [00:10<00:00,  5.31s/it]\n"
     ]
    },
    {
     "name": "stdout",
     "output_type": "stream",
     "text": [
      "torch.Size([326, 512])\n",
      "Epoch [1/3], Loss: 0.3314, Accuracy: 29.74%\n",
      "Validation Loss: 1.6150, Validation Accuracy: 1.79%\n"
     ]
    },
    {
     "name": "stderr",
     "output_type": "stream",
     "text": [
      "  7%|▋         | 1/14 [00:07<01:32,  7.12s/it]"
     ]
    },
    {
     "name": "stdout",
     "output_type": "stream",
     "text": [
      "torch.Size([512, 512])\n",
      "[Epoch 2, Minibatch     1] loss: 0.3144\n"
     ]
    },
    {
     "name": "stderr",
     "output_type": "stream",
     "text": [
      " 14%|█▍        | 2/14 [00:13<01:18,  6.58s/it]"
     ]
    },
    {
     "name": "stdout",
     "output_type": "stream",
     "text": [
      "torch.Size([512, 512])\n"
     ]
    },
    {
     "name": "stderr",
     "output_type": "stream",
     "text": [
      " 21%|██▏       | 3/14 [00:20<01:14,  6.78s/it]"
     ]
    },
    {
     "name": "stdout",
     "output_type": "stream",
     "text": [
      "torch.Size([512, 512])\n"
     ]
    },
    {
     "name": "stderr",
     "output_type": "stream",
     "text": [
      " 29%|██▊       | 4/14 [00:26<01:05,  6.54s/it]"
     ]
    },
    {
     "name": "stdout",
     "output_type": "stream",
     "text": [
      "torch.Size([512, 512])\n"
     ]
    },
    {
     "name": "stderr",
     "output_type": "stream",
     "text": [
      " 36%|███▌      | 5/14 [00:33<01:00,  6.69s/it]"
     ]
    },
    {
     "name": "stdout",
     "output_type": "stream",
     "text": [
      "torch.Size([512, 512])\n"
     ]
    },
    {
     "name": "stderr",
     "output_type": "stream",
     "text": [
      " 43%|████▎     | 6/14 [00:39<00:51,  6.43s/it]"
     ]
    },
    {
     "name": "stdout",
     "output_type": "stream",
     "text": [
      "torch.Size([512, 512])\n",
      "[Epoch 2, Minibatch     6] loss: 1.5639\n"
     ]
    },
    {
     "name": "stderr",
     "output_type": "stream",
     "text": [
      " 50%|█████     | 7/14 [00:46<00:46,  6.61s/it]"
     ]
    },
    {
     "name": "stdout",
     "output_type": "stream",
     "text": [
      "torch.Size([512, 512])\n"
     ]
    },
    {
     "name": "stderr",
     "output_type": "stream",
     "text": [
      " 57%|█████▋    | 8/14 [00:52<00:38,  6.42s/it]"
     ]
    },
    {
     "name": "stdout",
     "output_type": "stream",
     "text": [
      "torch.Size([512, 512])\n"
     ]
    },
    {
     "name": "stderr",
     "output_type": "stream",
     "text": [
      " 64%|██████▍   | 9/14 [00:59<00:32,  6.54s/it]"
     ]
    },
    {
     "name": "stdout",
     "output_type": "stream",
     "text": [
      "torch.Size([512, 512])\n"
     ]
    },
    {
     "name": "stderr",
     "output_type": "stream",
     "text": [
      " 71%|███████▏  | 10/14 [01:05<00:25,  6.45s/it]"
     ]
    },
    {
     "name": "stdout",
     "output_type": "stream",
     "text": [
      "torch.Size([512, 512])\n"
     ]
    },
    {
     "name": "stderr",
     "output_type": "stream",
     "text": [
      " 79%|███████▊  | 11/14 [01:12<00:19,  6.49s/it]"
     ]
    },
    {
     "name": "stdout",
     "output_type": "stream",
     "text": [
      "torch.Size([512, 512])\n",
      "[Epoch 2, Minibatch    11] loss: 1.5633\n"
     ]
    },
    {
     "name": "stderr",
     "output_type": "stream",
     "text": [
      " 86%|████████▌ | 12/14 [01:18<00:12,  6.43s/it]"
     ]
    },
    {
     "name": "stdout",
     "output_type": "stream",
     "text": [
      "torch.Size([512, 512])\n"
     ]
    },
    {
     "name": "stderr",
     "output_type": "stream",
     "text": [
      " 93%|█████████▎| 13/14 [01:24<00:06,  6.43s/it]"
     ]
    },
    {
     "name": "stdout",
     "output_type": "stream",
     "text": [
      "torch.Size([512, 512])\n"
     ]
    },
    {
     "name": "stderr",
     "output_type": "stream",
     "text": [
      "100%|██████████| 14/14 [01:25<00:00,  6.12s/it]\n"
     ]
    },
    {
     "name": "stdout",
     "output_type": "stream",
     "text": [
      "torch.Size([53, 512])\n"
     ]
    },
    {
     "name": "stderr",
     "output_type": "stream",
     "text": [
      " 50%|█████     | 1/2 [00:06<00:06,  6.23s/it]"
     ]
    },
    {
     "name": "stdout",
     "output_type": "stream",
     "text": [
      "torch.Size([512, 512])\n"
     ]
    },
    {
     "name": "stderr",
     "output_type": "stream",
     "text": [
      "100%|██████████| 2/2 [00:10<00:00,  5.01s/it]\n"
     ]
    },
    {
     "name": "stdout",
     "output_type": "stream",
     "text": [
      "torch.Size([326, 512])\n",
      "Epoch [2/3], Loss: 0.3330, Accuracy: 28.98%\n",
      "Validation Loss: 1.5903, Validation Accuracy: 30.31%\n"
     ]
    },
    {
     "name": "stderr",
     "output_type": "stream",
     "text": [
      "  7%|▋         | 1/14 [00:06<01:29,  6.89s/it]"
     ]
    },
    {
     "name": "stdout",
     "output_type": "stream",
     "text": [
      "torch.Size([512, 512])\n",
      "[Epoch 3, Minibatch     1] loss: 0.3146\n"
     ]
    },
    {
     "name": "stderr",
     "output_type": "stream",
     "text": [
      " 14%|█▍        | 2/14 [00:13<01:17,  6.46s/it]"
     ]
    },
    {
     "name": "stdout",
     "output_type": "stream",
     "text": [
      "torch.Size([512, 512])\n"
     ]
    },
    {
     "name": "stderr",
     "output_type": "stream",
     "text": [
      " 21%|██▏       | 3/14 [00:20<01:13,  6.70s/it]"
     ]
    },
    {
     "name": "stdout",
     "output_type": "stream",
     "text": [
      "torch.Size([512, 512])\n"
     ]
    },
    {
     "name": "stderr",
     "output_type": "stream",
     "text": [
      " 29%|██▊       | 4/14 [00:26<01:04,  6.47s/it]"
     ]
    },
    {
     "name": "stdout",
     "output_type": "stream",
     "text": [
      "torch.Size([512, 512])\n"
     ]
    },
    {
     "name": "stderr",
     "output_type": "stream",
     "text": [
      " 36%|███▌      | 5/14 [00:33<01:00,  6.68s/it]"
     ]
    },
    {
     "name": "stdout",
     "output_type": "stream",
     "text": [
      "torch.Size([512, 512])\n"
     ]
    },
    {
     "name": "stderr",
     "output_type": "stream",
     "text": [
      " 43%|████▎     | 6/14 [00:40<00:54,  6.85s/it]"
     ]
    },
    {
     "name": "stdout",
     "output_type": "stream",
     "text": [
      "torch.Size([512, 512])\n",
      "[Epoch 3, Minibatch     6] loss: 1.5668\n"
     ]
    },
    {
     "name": "stderr",
     "output_type": "stream",
     "text": [
      " 50%|█████     | 7/14 [00:49<00:52,  7.56s/it]"
     ]
    },
    {
     "name": "stdout",
     "output_type": "stream",
     "text": [
      "torch.Size([512, 512])\n"
     ]
    },
    {
     "name": "stderr",
     "output_type": "stream",
     "text": [
      " 57%|█████▋    | 8/14 [00:55<00:43,  7.18s/it]"
     ]
    },
    {
     "name": "stdout",
     "output_type": "stream",
     "text": [
      "torch.Size([512, 512])\n"
     ]
    },
    {
     "name": "stderr",
     "output_type": "stream",
     "text": [
      " 64%|██████▍   | 9/14 [01:02<00:34,  6.98s/it]"
     ]
    },
    {
     "name": "stdout",
     "output_type": "stream",
     "text": [
      "torch.Size([512, 512])\n"
     ]
    },
    {
     "name": "stderr",
     "output_type": "stream",
     "text": [
      " 71%|███████▏  | 10/14 [01:08<00:26,  6.74s/it]"
     ]
    },
    {
     "name": "stdout",
     "output_type": "stream",
     "text": [
      "torch.Size([512, 512])\n"
     ]
    },
    {
     "name": "stderr",
     "output_type": "stream",
     "text": [
      " 79%|███████▊  | 11/14 [01:15<00:20,  6.76s/it]"
     ]
    },
    {
     "name": "stdout",
     "output_type": "stream",
     "text": [
      "torch.Size([512, 512])\n",
      "[Epoch 3, Minibatch    11] loss: 1.5607\n"
     ]
    },
    {
     "name": "stderr",
     "output_type": "stream",
     "text": [
      " 86%|████████▌ | 12/14 [01:21<00:13,  6.58s/it]"
     ]
    },
    {
     "name": "stdout",
     "output_type": "stream",
     "text": [
      "torch.Size([512, 512])\n"
     ]
    },
    {
     "name": "stderr",
     "output_type": "stream",
     "text": [
      " 93%|█████████▎| 13/14 [01:28<00:06,  6.64s/it]"
     ]
    },
    {
     "name": "stdout",
     "output_type": "stream",
     "text": [
      "torch.Size([512, 512])\n"
     ]
    },
    {
     "name": "stderr",
     "output_type": "stream",
     "text": [
      "100%|██████████| 14/14 [01:28<00:00,  6.35s/it]\n"
     ]
    },
    {
     "name": "stdout",
     "output_type": "stream",
     "text": [
      "torch.Size([53, 512])\n"
     ]
    },
    {
     "name": "stderr",
     "output_type": "stream",
     "text": [
      " 50%|█████     | 1/2 [00:06<00:06,  6.18s/it]"
     ]
    },
    {
     "name": "stdout",
     "output_type": "stream",
     "text": [
      "torch.Size([512, 512])\n"
     ]
    },
    {
     "name": "stderr",
     "output_type": "stream",
     "text": [
      "100%|██████████| 2/2 [00:10<00:00,  5.35s/it]"
     ]
    },
    {
     "name": "stdout",
     "output_type": "stream",
     "text": [
      "torch.Size([326, 512])\n",
      "Epoch [3/3], Loss: 0.3365, Accuracy: 28.38%\n",
      "Validation Loss: 1.6120, Validation Accuracy: 12.29%\n"
     ]
    },
    {
     "name": "stderr",
     "output_type": "stream",
     "text": [
      "\n"
     ]
    }
   ],
   "source": [
    "model3_residual = model3_residual().to(device)\n",
    "\n",
    "criterion = nn.CrossEntropyLoss()\n",
    "optimizer = torch.optim.Adam(model.parameters(), lr=learning_rate, weight_decay=weight_decay)\n",
    "\n",
    "trn_loss_hist = []\n",
    "trn_acc_hist = []\n",
    "val_loss_hist = []\n",
    "val_acc_hist = []\n",
    "\n",
    "# Training loop\n",
    "for epoch in range(num_epochs):\n",
    "    model3_residual.train()\n",
    "    running_loss = 0.0\n",
    "    correct = 0\n",
    "    total = 0\n",
    "    for i, batch in enumerate(tqdm(training_data)):\n",
    "        _, labels, images = batch\n",
    "        images = images.to(device)\n",
    "        label_indices = [nc_labels.index(label) for label in labels]\n",
    "        label_tensor = torch.tensor(label_indices, dtype=torch.long).to(device)\n",
    "        optimizer.zero_grad()\n",
    "        outputs = model3_residual(images)\n",
    "        loss = criterion(outputs, label_tensor)\n",
    "        loss.backward()\n",
    "        optimizer.step()\n",
    "        running_loss += loss.item()\n",
    "\n",
    "        # Calculate accuracy\n",
    "        _, predicted = torch.max(outputs, 1)\n",
    "        total += label_tensor.size(0)\n",
    "        correct += (predicted == label_tensor).sum().item()\n",
    "\n",
    "        # Print minibatch loss every 5 minibatches\n",
    "        if i % 5 == 0:\n",
    "            print('[Epoch %d, Minibatch %5d] loss: %.4f' %\n",
    "                  (epoch + 1, i + 1, running_loss / 5))\n",
    "            running_loss = 0.0\n",
    "\n",
    "    # Calculate average loss and accuracy for training data\n",
    "    avg_loss = running_loss / len(training_data)\n",
    "    trn_loss_hist.append(avg_loss)\n",
    "    trn_acc = 100 * correct / total\n",
    "    trn_acc_hist.append(trn_acc)\n",
    "\n",
    "    # Evaluate on validation data\n",
    "    model3_residual.eval()\n",
    "    val_running_loss = 0.0\n",
    "    val_correct = 0\n",
    "    val_total = 0\n",
    "    with torch.no_grad():\n",
    "        for batch in tqdm(validation_data):\n",
    "            _, labels, images = batch\n",
    "            images = images.to(device)\n",
    "            label_indices = [nc_labels.index(label) for label in labels]\n",
    "            label_tensor = torch.tensor(label_indices, dtype=torch.long).to(device)\n",
    "            outputs = model3_residual(images)\n",
    "            loss = criterion(outputs, label_tensor)\n",
    "            val_running_loss += loss.item()\n",
    "\n",
    "            # Calculate accuracy\n",
    "            _, predicted = torch.max(outputs, 1)\n",
    "            val_total += label_tensor.size(0)\n",
    "            val_correct += (predicted == label_tensor).sum().item()\n",
    "\n",
    "    # Calculate average loss and accuracy for validation data\n",
    "    val_avg_loss = val_running_loss / len(validation_data)\n",
    "    val_loss_hist.append(val_avg_loss)\n",
    "    val_acc = 100 * val_correct / val_total\n",
    "    val_acc_hist.append(val_acc)\n",
    "\n",
    "    # Print epoch statistics\n",
    "    print(f'Epoch [{epoch+1}/{num_epochs}], Loss: {avg_loss:.4f}, Accuracy: {trn_acc:.2f}%')\n",
    "    print(f'Validation Loss: {val_avg_loss:.4f}, Validation Accuracy: {val_acc:.2f}%')\n"
   ]
  },
  {
   "cell_type": "code",
   "execution_count": null,
   "metadata": {
    "colab": {
     "base_uri": "https://localhost:8080/",
     "height": 507
    },
    "id": "mI0jJG_TfJqL",
    "outputId": "f6bd59fa-f1c7-4ede-af14-d4da1df0ebd8"
   },
   "outputs": [
    {
     "data": {
      "image/png": "[encoded data removed]",
      "text/plain": [
       "<Figure size 1000x500 with 2 Axes>"
      ]
     },
     "metadata": {},
     "output_type": "display_data"
    }
   ],
   "source": [
    "# Plotting\n",
    "plt.figure(figsize=(10, 5))\n",
    "\n",
    "# Plot validation loss\n",
    "plt.subplot(1, 2, 1)\n",
    "plt.plot(range(1, num_epochs + 1), val_loss_hist, label='Validation')\n",
    "plt.xlabel('Epoch')\n",
    "plt.ylabel('Loss')\n",
    "plt.legend()\n",
    "plt.title('Cross-Entropy Loss (Validation)')\n",
    "\n",
    "# Plot training and validation accuracy\n",
    "plt.subplot(1, 2, 2)\n",
    "plt.plot(range(1, num_epochs + 1), trn_acc_hist, label='Training')\n",
    "plt.plot(range(1, num_epochs + 1), val_acc_hist, label='Validation')\n",
    "plt.xlabel('Epoch')\n",
    "plt.ylabel('Accuracy (%)')\n",
    "plt.legend()\n",
    "plt.title('Accuracy')\n",
    "plt.ylim(0, 85)\n",
    "\n",
    "plt.tight_layout()\n",
    "plt.show()"
   ]
  },
  {
   "cell_type": "markdown",
   "metadata": {
    "id": "XEgrJiEphNII"
   },
   "source": [
    "# **Test Evaluation:**"
   ]
  },
  {
   "cell_type": "code",
   "execution_count": null,
   "metadata": {
    "colab": {
     "base_uri": "https://localhost:8080/"
    },
    "id": "CZMooHtIhRzF",
    "outputId": "8f6d0e3b-3b5d-4036-a5d6-d32779e84642"
   },
   "outputs": [
    {
     "name": "stdout",
     "output_type": "stream",
     "text": [
      "838\n"
     ]
    },
    {
     "name": "stderr",
     "output_type": "stream",
     "text": [
      "100%|██████████| 27/27 [00:12<00:00,  2.20it/s]"
     ]
    },
    {
     "name": "stdout",
     "output_type": "stream",
     "text": [
      "\n",
      " Evaluation accuracy: 0.6921241050119332\n"
     ]
    },
    {
     "name": "stderr",
     "output_type": "stream",
     "text": [
      "\n"
     ]
    },
    {
     "data": {
      "text/plain": [
       "0.6921241050119332"
      ]
     },
     "execution_count": 73,
     "metadata": {},
     "output_type": "execute_result"
    }
   ],
   "source": [
    "evaluate(model, test_data)"
   ]
  }
 ],
 "metadata": {
  "accelerator": "GPU",
  "colab": {
   "gpuType": "T4",
   "provenance": []
  },
  "kernelspec": {
   "display_name": "Python 3 (ipykernel)",
   "language": "python",
   "name": "python3"
  },
  "language_info": {
   "codemirror_mode": {
    "name": "ipython",
    "version": 3
   },
   "file_extension": ".py",
   "mimetype": "text/x-python",
   "name": "python",
   "nbconvert_exporter": "python",
   "pygments_lexer": "ipython3",
   "version": "3.9.7"
  },
  "widgets": {
   "application/vnd.jupyter.widget-state+json": {
    "state": {},
    "version_major": 2,
    "version_minor": 0
   }
  }
 },
 "nbformat": 4,
 "nbformat_minor": 4
}
